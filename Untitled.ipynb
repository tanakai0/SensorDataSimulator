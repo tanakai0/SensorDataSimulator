{
 "cells": [
  {
   "cell_type": "code",
   "execution_count": 1,
   "id": "d37411da-1419-457a-ba2c-937afdadbad6",
   "metadata": {},
   "outputs": [],
   "source": [
    "import numpy as np"
   ]
  },
  {
   "cell_type": "code",
   "execution_count": 37,
   "id": "f2e2525e-71cd-4f91-97eb-98af362fc783",
   "metadata": {},
   "outputs": [
    {
     "name": "stdout",
     "output_type": "stream",
     "text": [
      "[(0, 0), (0, 1), (1, 0), (0, 2), (2, 2), (2, 2)]\n",
      "[3 1 3]\n",
      "[1. 0. 0.]\n",
      "[[0.33333333 0.33333333 0.33333333]\n",
      " [1.         0.         0.        ]\n",
      " [0.         0.         1.        ]]\n",
      "[[0.         0.66666667 0.66666667 0.33333333]\n",
      " [0.         0.         1.         0.        ]\n",
      " [0.66666667 0.66666667 0.         0.66666667]]\n"
     ]
    }
   ],
   "source": [
    "s = np.array([0, 0, 1, 0, 2, 2, 2])\n",
    "n = 3\n",
    "m = 4\n",
    "seq= np.array([[0, 1, 1, 1],\n",
    "               [0, 0, 1, 0],\n",
    "               [0, 0, 1, 0],\n",
    "               [0, 1, 0, 0],\n",
    "               [1, 0, 0, 1],\n",
    "               [1, 1, 0, 0],\n",
    "               [0, 1, 0, 1]])\n",
    "pairs = [(s[t-1], s[t]) for t in range(1, len(s))]\n",
    "\n",
    "counts = np.bincount(s)\n",
    "P = np.zeros((n, m))\n",
    "A = np.zeros((n, n))\n",
    "C = np.zeros(n)\n",
    "print(pairs)\n",
    "print(counts)\n",
    "\n",
    "C[s[0]] += 1\n",
    "# counts[i] = the total number of occurrences of state i in the sequence\n",
    "counts = np.bincount(s)\n",
    "# pairs[i] = (s_{t}, s_{t+1}), 1<= t <= T-1, T: total length of the obsevation\n",
    "pairs = [(s[t-1], s[t]) for t in range(1, len(s))]\n",
    "\n",
    "for i in range(n):\n",
    "    for j in range(n):\n",
    "        A[i][j] = pairs.count((i, j)) / (counts[i] - (s[-1] == i))\n",
    "    for j in range(m):\n",
    "        P[i][j] = sum([(s[t] == i) * seq[t][j] for t in range(len(s))]) / counts[i]\n",
    "        \n",
    "print(C)\n",
    "print(A)\n",
    "print(P)"
   ]
  },
  {
   "cell_type": "code",
   "execution_count": 49,
   "id": "58403f9c-cb72-4ec0-bd6b-fb302373c6c6",
   "metadata": {},
   "outputs": [
    {
     "name": "stdout",
     "output_type": "stream",
     "text": [
      "[0 1 2 3 4]\n",
      "[ 2  3 19  5  6]\n",
      "[ 0  3 38 15 24]\n",
      "38\n",
      "2\n"
     ]
    }
   ],
   "source": [
    "a = np.arange(5)\n",
    "b = np.arange(5) + 2\n",
    "b[2] += 15\n",
    "print(a)\n",
    "print(b)\n",
    "print(a * b)\n",
    "print(np.max(a * b))\n",
    "print(np.argmax(a * b))"
   ]
  },
  {
   "cell_type": "code",
   "execution_count": 51,
   "id": "10245928-f320-4530-b26d-31bd91490e3b",
   "metadata": {},
   "outputs": [
    {
     "name": "stdout",
     "output_type": "stream",
     "text": [
      "[[ 0  1  2]\n",
      " [ 3  4  5]\n",
      " [ 6  7  8]\n",
      " [ 9 10 11]\n",
      " [12 13 14]\n",
      " [15 16 17]\n",
      " [18 19 20]\n",
      " [21 22 23]\n",
      " [24 25 26]\n",
      " [27 28 29]]\n"
     ]
    },
    {
     "data": {
      "text/plain": [
       "2"
      ]
     },
     "execution_count": 51,
     "metadata": {},
     "output_type": "execute_result"
    }
   ],
   "source": [
    "A = np.arange(30).reshape(10, 3)\n",
    "print(A)\n",
    "np.argmax(A[-1])"
   ]
  },
  {
   "cell_type": "code",
   "execution_count": null,
   "id": "3bf406a3-bc39-4172-bfb2-7fe80633e636",
   "metadata": {},
   "outputs": [],
   "source": []
  },
  {
   "cell_type": "code",
   "execution_count": null,
   "id": "ea59baf4-864e-435a-81a8-7b427f769aa5",
   "metadata": {},
   "outputs": [],
   "source": []
  }
 ],
 "metadata": {
  "kernelspec": {
   "display_name": "Python 3 (ipykernel)",
   "language": "python",
   "name": "python3"
  },
  "language_info": {
   "codemirror_mode": {
    "name": "ipython",
    "version": 3
   },
   "file_extension": ".py",
   "mimetype": "text/x-python",
   "name": "python",
   "nbconvert_exporter": "python",
   "pygments_lexer": "ipython3",
   "version": "3.9.5"
  }
 },
 "nbformat": 4,
 "nbformat_minor": 5
}
