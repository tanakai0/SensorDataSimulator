{
 "cells": [
  {
   "cell_type": "code",
   "execution_count": 1,
   "id": "f2e2525e-71cd-4f91-97eb-98af362fc783",
   "metadata": {},
   "outputs": [
    {
     "name": "stdout",
     "output_type": "stream",
     "text": [
      "(array([0, 1, 0, 2, 2, 2, 2]), 5.873606637142921e-07)\n",
      "[[0.33333333 0.33333333 0.33333333]\n",
      " [1.         0.         0.        ]\n",
      " [0.         0.         1.        ]]\n",
      "[[0.         0.66666667 0.66666667 0.33333333]\n",
      " [0.         0.         1.         0.        ]\n",
      " [0.66666667 0.66666667 0.         0.66666667]]\n"
     ]
    }
   ],
   "source": [
    "import numpy as np\n",
    "import analysis\n",
    "s = np.array([0, 0, 1, 0, 2, 2, 2])\n",
    "n = 3\n",
    "m = 4\n",
    "seq= np.array([[0, 1, 1, 1],\n",
    "               [0, 0, 1, 0],\n",
    "               [0, 0, 1, 0],\n",
    "               [0, 1, 0, 0],\n",
    "               [1, 0, 0, 1],\n",
    "               [1, 1, 0, 0],\n",
    "               [0, 1, 0, 1]])\n",
    "\n",
    "hmm = analysis.HMM4binary_sensors()\n",
    "hmm.fit_with_true_hidden_states(seq, s)\n",
    "print(hmm.predict_states(seq))\n",
    "print(hmm.A)\n",
    "print(hmm.P)"
   ]
  },
  {
   "cell_type": "code",
   "execution_count": 3,
   "id": "28c0a8e2-e63f-4487-9481-b529bd181088",
   "metadata": {},
   "outputs": [
    {
     "name": "stdout",
     "output_type": "stream",
     "text": [
      "[0. 1.]\n",
      "[[0.25408204 0.74591796]\n",
      " [0.25023368 0.74976632]]\n",
      "[[0.79299363 0.21218153]\n",
      " [0.20269729 0.67071705]]\n"
     ]
    }
   ],
   "source": [
    "import numpy as np\n",
    "import analysis\n",
    "C = np.array([1/2, 1/2])\n",
    "A = np.array([[1/4, 3/4],\n",
    "              [1/4, 3/4]])\n",
    "P = np.array([[4/5, 1/5],\n",
    "              [1/5, 2/3]])\n",
    "s = np.random.randint(0, 2)\n",
    "states = [s]\n",
    "data = [[np.random.binomial(1, P[s][0]), np.random.binomial(1, P[s][1])]]\n",
    "for i in range(10000):\n",
    "    flag = np.random.binomial(1, A[s][0])\n",
    "    if s == 0:        \n",
    "        if not(flag):\n",
    "            s = 1\n",
    "    else:\n",
    "        if flag:\n",
    "            s = 0\n",
    "    states.append(s)\n",
    "    data.append([np.random.binomial(1, P[s][0]), np.random.binomial(1, P[s][1])])\n",
    "states = np.array(states)\n",
    "data = np.array(data)\n",
    "\n",
    "hmm = analysis.HMM4binary_sensors()\n",
    "hmm.fit_with_true_hidden_states(data, states)\n",
    "print(hmm.C)\n",
    "print(hmm.A)\n",
    "print(hmm.P)"
   ]
  },
  {
   "cell_type": "code",
   "execution_count": 8,
   "id": "ddd668e4-f5a6-4437-b148-06599a44a6c8",
   "metadata": {},
   "outputs": [
    {
     "name": "stdout",
     "output_type": "stream",
     "text": [
      "[0.05625, 0.06561000000000002]\n"
     ]
    }
   ],
   "source": [
    "import numpy as np\n",
    "\n",
    "C = np.array([0.9, 0.1])\n",
    "P = np.array([[0.5, 0.5, 0.5, 0.5],\n",
    "              [0.1, 0.1, 0.9, 0.9]])\n",
    "o_t = np.array([0, 0, 1, 1])\n",
    "ones_vec = np.ones(o_t.shape[0])\n",
    "L = [C[i] * np.prod(P[i]*o_t + (ones_vec - P[i])*np.abs((ones_vec - o_t))) for i in range(P.shape[0])]\n",
    "print(L)"
   ]
  },
  {
   "cell_type": "code",
   "execution_count": 9,
   "id": "838608f6-fd94-4ea7-98fe-40c60a43b997",
   "metadata": {},
   "outputs": [
    {
     "data": {
      "text/plain": [
       "1"
      ]
     },
     "execution_count": 9,
     "metadata": {},
     "output_type": "execute_result"
    }
   ],
   "source": [
    "np.argmax(L)"
   ]
  },
  {
   "cell_type": "code",
   "execution_count": null,
   "id": "522fff69-2f04-43c6-be78-8efa58b4f5cd",
   "metadata": {},
   "outputs": [],
   "source": []
  }
 ],
 "metadata": {
  "kernelspec": {
   "display_name": "Python 3 (ipykernel)",
   "language": "python",
   "name": "python3"
  },
  "language_info": {
   "codemirror_mode": {
    "name": "ipython",
    "version": 3
   },
   "file_extension": ".py",
   "mimetype": "text/x-python",
   "name": "python",
   "nbconvert_exporter": "python",
   "pygments_lexer": "ipython3",
   "version": "3.9.5"
  }
 },
 "nbformat": 4,
 "nbformat_minor": 5
}
