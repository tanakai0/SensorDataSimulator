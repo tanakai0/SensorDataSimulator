{
 "cells": [
  {
   "cell_type": "code",
   "execution_count": 1,
   "id": "differential-biology",
   "metadata": {},
   "outputs": [
    {
     "name": "stdout",
     "output_type": "stream",
     "text": [
      "(array([0, 1, 0, 2, 2, 2, 2]), 5.873606637142921e-07)\n",
      "[[0.33333333 0.33333333 0.33333333]\n",
      " [1.         0.         0.        ]\n",
      " [0.         0.         1.        ]]\n",
      "[[0.         0.66666667 0.66666667 0.33333333]\n",
      " [0.         0.         1.         0.        ]\n",
      " [0.66666667 0.66666667 0.         0.66666667]]\n"
     ]
    }
   ],
   "source": [
    "import numpy as np\n",
    "import analysis\n",
    "s = np.array([0, 0, 1, 0, 2, 2, 2])\n",
    "n = 3\n",
    "m = 4\n",
    "seq= np.array([[0, 1, 1, 1],\n",
    "               [0, 0, 1, 0],\n",
    "               [0, 0, 1, 0],\n",
    "               [0, 1, 0, 0],\n",
    "               [1, 0, 0, 1],\n",
    "               [1, 1, 0, 0],\n",
    "               [0, 1, 0, 1]])\n",
    "\n",
    "hmm = analysis.HMM4binary_sensors()\n",
    "hmm.fit_with_true_hidden_states(seq, s)\n",
    "print(hmm.predict_states(seq))\n",
    "print(hmm.A)\n",
    "print(hmm.P)"
   ]
  },
  {
   "cell_type": "code",
   "execution_count": 3,
   "id": "featured-dining",
   "metadata": {},
   "outputs": [
    {
     "name": "stdout",
     "output_type": "stream",
     "text": [
      "[0. 1.]\n",
      "[[0.25408204 0.74591796]\n",
      " [0.25023368 0.74976632]]\n",
      "[[0.79299363 0.21218153]\n",
      " [0.20269729 0.67071705]]\n"
     ]
    }
   ],
   "source": [
    "import numpy as np\n",
    "import analysis\n",
    "C = np.array([1/2, 1/2])\n",
    "A = np.array([[1/4, 3/4],\n",
    "              [1/4, 3/4]])\n",
    "P = np.array([[4/5, 1/5],\n",
    "              [1/5, 2/3]])\n",
    "s = np.random.randint(0, 2)\n",
    "states = [s]\n",
    "data = [[np.random.binomial(1, P[s][0]), np.random.binomial(1, P[s][1])]]\n",
    "for i in range(10000):\n",
    "    flag = np.random.binomial(1, A[s][0])\n",
    "    if s == 0:        \n",
    "        if not(flag):\n",
    "            s = 1\n",
    "    else:\n",
    "        if flag:\n",
    "            s = 0\n",
    "    states.append(s)\n",
    "    data.append([np.random.binomial(1, P[s][0]), np.random.binomial(1, P[s][1])])\n",
    "states = np.array(states)\n",
    "data = np.array(data)\n",
    "\n",
    "hmm = analysis.HMM4binary_sensors()\n",
    "hmm.fit_with_true_hidden_states(data, states)\n",
    "print(hmm.C)\n",
    "print(hmm.A)\n",
    "print(hmm.P)"
   ]
  },
  {
   "cell_type": "code",
   "execution_count": 8,
   "id": "motivated-cooler",
   "metadata": {},
   "outputs": [
    {
     "name": "stdout",
     "output_type": "stream",
     "text": [
      "[0.05625, 0.06561000000000002]\n"
     ]
    }
   ],
   "source": [
    "import numpy as np\n",
    "\n",
    "C = np.array([0.9, 0.1])\n",
    "P = np.array([[0.5, 0.5, 0.5, 0.5],\n",
    "              [0.1, 0.1, 0.9, 0.9]])\n",
    "o_t = np.array([0, 0, 1, 1])\n",
    "ones_vec = np.ones(o_t.shape[0])\n",
    "L = [C[i] * np.prod(P[i]*o_t + (ones_vec - P[i])*np.abs((ones_vec - o_t))) for i in range(P.shape[0])]\n",
    "print(L)"
   ]
  },
  {
   "cell_type": "code",
   "execution_count": 16,
   "id": "ac328503-6303-4985-a07a-fcf44d1dff73",
   "metadata": {
    "tags": []
   },
   "outputs": [
    {
     "name": "stdout",
     "output_type": "stream",
     "text": [
      "0\n",
      "-2.5606477482646683\n",
      "[-2.5606477482646683, -3.9606477482646683, -6.047025567941541]\n",
      "[-2.56064775 -3.96064775 -6.04702557]\n",
      "True\n",
      "True\n"
     ]
    }
   ],
   "source": [
    "import numpy as np\n",
    "def logsub(logX, logY):\n",
    "        \"\"\"\n",
    "        This calculates log(X - Y) from log(X) and log(Y).\n",
    "        \n",
    "        Parameters\n",
    "        ----------\n",
    "        logX : float\n",
    "        logY : float\n",
    "        \n",
    "        Returns\n",
    "        -------\n",
    "        ret : float\n",
    "        \"\"\"\n",
    "        if logX < logY:\n",
    "            raise ValueError('logX must be larger than logY')\n",
    "        if logX == float('inf'):\n",
    "            return logX\n",
    "        diff = logY - logX\n",
    "        if diff < -20:\n",
    "            return logX\n",
    "        return logX + np.log(1 - np.exp(diff))\n",
    "\n",
    "n = 3\n",
    "m = 2\n",
    "logC = np.array([-1, -2.4, -3])\n",
    "P = np.array([[0.3, 0.7],\n",
    "              [0.3, 0.7],\n",
    "              [0.05, 0.95]])\n",
    "logP = np.log(P)\n",
    "log1P = np.array([[logsub(0, logP[i][j]) for j in range(m)] for i in range(n)])\n",
    "o_t = np.array([0, 0])\n",
    "ones_vec = np.array([1, 1])\n",
    "\n",
    "logp = [logC[i] + np.sum(logP[i]*o_t + log1P[i]*(ones_vec - o_t)) for i in range(n)]\n",
    "ret = np.argmax(logp)\n",
    "prob = np.max(logp)\n",
    "\n",
    "logp_a = logC + np.sum(logP*o_t + log1P*(ones_vec - o_t), axis = 1)\n",
    "ret_a = np.argmax(logp_a)\n",
    "prob_a = np.max(logp_a)\n",
    "\n",
    "print(ret)\n",
    "print(prob)\n",
    "print(logp)\n",
    "print(logp_a)\n",
    "print(ret == ret_a)\n",
    "print(prob == prob_a)"
   ]
  },
  {
   "cell_type": "code",
   "execution_count": null,
   "id": "7b2f1108-803b-4f70-bf82-983e0388172b",
   "metadata": {
    "tags": []
   },
   "outputs": [],
   "source": []
  },
  {
   "cell_type": "code",
   "execution_count": null,
   "id": "fab8de8c-4299-45e5-8b84-d8286715eb01",
   "metadata": {},
   "outputs": [],
   "source": []
  }
 ],
 "metadata": {
  "kernelspec": {
   "display_name": "Python 3 (ipykernel)",
   "language": "python",
   "name": "python3"
  },
  "language_info": {
   "codemirror_mode": {
    "name": "ipython",
    "version": 3
   },
   "file_extension": ".py",
   "mimetype": "text/x-python",
   "name": "python",
   "nbconvert_exporter": "python",
   "pygments_lexer": "ipython3",
   "version": "3.10.8"
  }
 },
 "nbformat": 4,
 "nbformat_minor": 5
}
