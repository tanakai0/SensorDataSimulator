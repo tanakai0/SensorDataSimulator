{
 "cells": [
  {
   "cell_type": "markdown",
   "id": "intermediate-discretion",
   "metadata": {},
   "source": [
    "# Memo"
   ]
  },
  {
   "cell_type": "raw",
   "id": "african-feature",
   "metadata": {},
   "source": [
    "memo about SISG4HEIAlpha\n",
    "\n",
    "# make layout -> make activity -> make travel pattern -> PIR or door sensor\n",
    "# in GUI_Layout\n",
    "Fur_list = [['Bed', 'Wardrobe', 'Desk and Chair'], ['Kitchen Stove', 'Cupboard', 'Refrigerator',\n",
    "            'Wash Machine', 'Trash Bin'], ['Sofa and TV', 'Table and Chair']]\n",
    "# in GUI_Semantics\n",
    "Dict_ZF = {'Resting': ['Bed', 'Wardrobe', 'Nightstand', 'Desk and Chair', 'Random'],\n",
    "           'Living': ['Table and Chair', 'Sofa and TV', 'Random'],\n",
    "           'Cooking': ['Kitchen Stove', 'Cupboard', 'Refrigerator', 'Trash Bin', 'Wash Machine', 'Random']}\n",
    "S_r, N, stat, stat_Incre = FP_main.generate_house(N, topo, varss)\n",
    "\n",
    "House, Toil_Bath, Furnitures, Doors, Walls, T_con, B_con, type = FLP.Floor_Plan(topo, furs)\n",
    "\n",
    "FSave.Height_SampleSave(type, self.rooms, self.T_Bs, self.furnitures, root_path+'/DataBase/'+s_path)\n",
    "\n",
    "# in FSave\n",
    "Fur_choice = [['WAR', '000'], ['De', '00'], ['So', '00'], ['DTA', '000'], ['KS', '00'],\n",
    "                  ['CB', '00'], ['RFA', '000'], ['WM', '00'], ['TB', '00']]\n",
    "                  \n",
    "# in Dest_nodes.py\n",
    "Furniture2Activity = {'Bedroom':{'Bed':'Sleep', 'Wardrobe': 'Dress_up', 'Chair':'Work'},\n",
    "                      'Livingroom':{'Sofa':'Watch_TV', 'Chair':'Dining'},\n",
    "                      'Kitchen': {'Kitchen_Stove':'Cooking0', 'Cupboard':'Cooking1',\n",
    "                                    'Refrigerator':'Cooking2', 'Wash_Machine':'Washing',\n",
    "                                    'Trash_Bin':'Cleaning'}}\n",
    "Door2Activity = {'Entrance':'Go_out', 'Toilet_Door':'Go_to_Toilet', 'Bathroom_Door':'Go_to_Bathroom'}\n",
    "\n",
    "self.Actseqs = HAS_main.actseq_gen(self.savelist, self.paras[6], self.paras[0], self.intvar, self.paras[1:4], self.paras[4:6], self.order)\n",
    "\n",
    "HASave.Mark2Txt(Actseqs[i], Savelist[i], stimes[i], etimes[i])\n",
    "\n",
    "# Actseqs: list of activity sequnces, Actseqs[i] = activity sequence of i-th layout, \n",
    "# Actseqs[i][j] = [j-th activity, duration time of j-th activity] in i-th layout,\n",
    "# activity = [ 0 Sleep_Noon, 1 Sleep_Evening, 2 Wash_Self(in Bathroom), 3 Cooking0(in KS), 4 Cooking1(in CB), \n",
    "#              5 Cooking2(in RFA), 6 Eat, 7 Bath, 8 Dress_up, 9 Go_out, \n",
    "#              10 Toilet_Short, 11Toilet_Long, 12 Clean, 13 Work, 14 Watch_TV, \n",
    "#              15 Wash_Clothing(in WM), 16 Wandering, 17 Relax], \n",
    "# (activity sequences = [0 sleep_noon, 1 sleep, 2 eat, 3 bath, 4 go_out, \n",
    "#                        5 toilet(short), 6 toilet(long), 7 clean, 8 work, 9 watch_TV, \n",
    "#                        10 Washing, 11 Wandering, 12 Resting])\n",
    "#  Save those as Num2Act = ['Sleep', 'Sleep', 'Wash and Brush', 'Cook', 'Take TableWare', \n",
    "#                           'Take Food', 'Eat', 'Bath', 'Dress up', 'Go out', \n",
    "#                           'Go to Toilet', 'Go to Toilet', 'Clean', 'Read', 'Watch TV', \n",
    "#                           'Wash Clothes', 'Wander', 'Relax']\n",
    "    \n",
    "Load.load_actseq(h_v, fname0, fname1)\n",
    "# Load.processact(act, fname0) (like {'Sleep': 'Sleep', 'Wash and Brush': 'Go_to_Bathroom', 'Cook': 'Cooking0', 'Bath': 'Go_to_Bathroom',\n",
    "#     'Go out': 'Go_out', 'Go to Toilet': 'Go_to_Toilet', 'Wash Clothes': 'Washing', 'Watch TV': 'Watch_TV'})\n",
    "#     converts ACTS.txt into activity code for travel pattern generation\n",
    "    \n",
    "# Tools_.PIR_position decide the limit of the number of the sensors\n",
    "\n",
    "\n",
    "# \n",
    "│  │  ├─1456,1040,2080,180,738LL\n",
    "│  │  │      ACTS.txt\n",
    "│  │  │      Cleaning_distance.csv\n",
    "│  │  │      Cooking0_distance.csv\n",
    "│  │  │      Cooking1_distance.csv\n",
    "│  │  │      Cooking2_distance.csv\n",
    "│  │  │      Destinations.json\n",
    "│  │  │      Dining_distance.csv\n",
    "│  │  │      Discomfortable_value.csv\n",
    "│  │  │      Dress_up_distance.csv\n",
    "│  │  │      Go_out_distance.csv\n",
    "│  │  │      Go_to_Bathroom_distance.csv\n",
    "│  │  │      Go_to_Toilet_distance.csv\n",
    "│  │  │      Height_Function.json\n",
    "│  │  │      Human_Path,55,right.json\n",
    "│  │  │      Max_Distances.json\n",
    "│  │  │      Semantic.json\n",
    "│  │  │      Sleep_distance.csv\n",
    "│  │  │      Watch_TV_distance.csv\n",
    "│  │  │      Work_distance.csv"
   ]
  },
  {
   "cell_type": "markdown",
   "id": "assumed-setting",
   "metadata": {},
   "source": [
    "# Memo about significant change"
   ]
  },
  {
   "cell_type": "raw",
   "id": "second-myrtle",
   "metadata": {},
   "source": [
    "time : change\n",
    "2021-10-22-08-34 : hidden location_sequence, so input of new_functions.path_generate and new_functions.multi_sensor_records don't need location_sequence. TP[i] add 3rd element 'end time of the path'(= start time of the action that is the goal of i-th path)\n",
    "2021-11-12 : add Sensor class, add home_equipment as intance value of Activity class\n",
    "2022-05-25 : use floor_plan module\n",
    "\n",
    "        Resident's walking trajectories between activities in the layout.\n",
    "        TP[i][0](string)    = i-th path information, \"kind_of_walking,start_place_code,end_place_code,random_seed\"\n",
    "        TP[i][1](list)      = [body coordinates, left step coordinates, right step coordinates] about movement of i-th path\n",
    "        TP[i][2](timedelta) = the end time of the path (= the start time of the activity that is done at the goal of i-th path)\n",
    "        e.g. TP = [('Direct,Bed,Desk,60', [body_c, left_f, right_f], end_time),\n",
    "                   ('Wander,Sofa,Dinner_Table,Bed,Wardrobe,33', [body_c, left_f, right_f], end time),\n",
    "                   ...]\n",
    "        body_c is like [(0.00,0.00), (1.03, 1.21), (2.44, 3.34), ..., (100.23, 43.78)]. left_f and right_f is similar form of body_c.\n",
    "-> WalkingTrajectory\n",
    "\n",
    "main changing points in 2022/07/28\n",
    "activity_sequence : list of tuple -> list of ActivityDataPoint\n",
    "activity_scheduling -> generate_activity_sequence\n",
    "path_generate -> generate_walking_trajectories\n",
    "sensor_info -> sensors : list of Sensor\n",
    "\n",
    "2022/12/01\n",
    "Toil -> WC\n",
    "So -> Sofa\n",
    "Cb -> CB\n",
    "Cha -> C\n",
    "DTa -> DT\n",
    "WaR -> WR\n",
    "NSt -> NS\n",
    "Rfa -> RF\n",
    "TB -> T"
   ]
  },
  {
   "cell_type": "markdown",
   "id": "exotic-creek",
   "metadata": {},
   "source": [
    "## Possible improvements\n",
    "### Memo\n",
    "- [x] （travel pattern の行動中の動きについて、うまく全部繋げられるか？現状次の行動の開始地点と前の行動の終了地点が一致しない） -> しようと思えば、終了地点と開始地点を揃えられるが、行動内で生じた誤差として考えてもいい気がする。\n",
    "- [x] new_functions.update_multi_sensor_log 内の past_x, past_y により赤外線センサが人を動いているかを判定するところで,現状sampling_duration秒前の地点との差分を取っているが，もしもsampling_duration = 10 とすると，10秒前の地点との差分になってしまう->PIRセンサのサンプリングレートが長すぎるとそもそも実用的でないから、妥当な仮定のような気がする。\n",
    "‐ [x] 経路計算のための distance の情報を計算した後に保存する際のsave json.dumps に MyEncoder 形式で保存するように変更した。また、generate_layout_with_necessary_furniture が繰り返しgenerate_layout を実行する際に、前のデータが完全に上書きされているかどうか確認していない（たぶん全部上書きされているため、不都合は起きないはず。）\n",
    "- [x] 転倒には30秒かかるので、walkingが重ならないように、location[i]からlocation[i+1]へのpathで転倒する際には、location[i+1]での行動の行動時間が十分長い物を選ぶようにしている．\n",
    "- [x] 時系列データを (start time of the parameter, value of the parameter) のリストで表現するか、(start time of the parameter, end time of the parameter, value of the parameter)のリストで表現するか。前者は情報量が削減でき，矛盾のチェックが時系列順に並んでいるかどうかだけで済む。後者は最後の期間のパラメータの終了時刻を明示できる（前者ではインデックスがiのパラメータはiの開始時刻からi+1の開始時刻までになるが、リストの最後の要素のパラメータは次の要素がないため、終了時刻がわからない.最後にダミー要素として0の値を持つ期間にすればなんとかなる？）。-> 後者にする．\n",
    "\n",
    "### Priorities\n",
    "- [x] フォルダ構造から再考（SISG4HEIALpha の階層的フォルダ構造いる？名前で(layout1)とか毎回指定してもよくない？）フォルダ名にある情報は全部 Semantic.json に入れる．\n",
    "- [x] テキスト形式の保存に加えて pickle 等を用いて異常ラベルなどを保存する\n",
    "- [x] ログのテキストファイルを入力として，リストのオブジェクトに読み込む方法\n",
    "- [ ] anomaly.forgetting_labels が遅い．頑張れば速くできそう\n",
    "- [ ] Activity クラスの同一性判定を元に戻した？activity_model.Activity クラスは同一性判定を行動名のみにしているため、そこを強調しないと意図しない書き方をしてしまうかも。正直直してもよい．\n",
    "- [ ] 睡眠行動にトイレが断続的に入るパターンなどをモデル化する際には、現状の last_activity や sleep_after_24では対応できない。そのため、次の日の行動列も保存し、次の日の生成時にそれをコピーできるように作り変える必要がある。それか，睡眠にトイレ行動としてのサブ行動を許すか？\n",
    "- [ ] 新しい家具の追加など、レイアウトの修正を後から簡単にできるようにする。\n",
    "- [ ] Activity の所の 'Bed' などの場所名は floorplan とかに定数としておかなくて大丈夫か\n",
    "- [ ] MMSE の幅が 1 month 以外でも使いやすいようにする\n",
    "\n",
    "\n",
    "\n",
    "### Floor plan\n",
    "- [x] フォルダ名に家具や大きさいる？layoutだけ残すか，もしくは全てフラットにするか？その代わり，家具一覧や大きさ一覧は Semantic.json に組み込む.\n",
    "- [ ] 自作クラス Zone, Wall, Furniture の活用\n",
    "- [ ] dis_val のindex と実際のx, y の関係をわかりやすく。（参考、disval を作成する関数、または、Tools_.cal_I_J）\n",
    "- [ ] ワンルームでなくて、壁がある場合はどうするのか？単純にdisval を100に設定するのか？2階など複雑な住居はどうするのか？\n",
    "- [ ] 間取りを修正できるようにする．\n",
    "\n",
    "### Activity schedule\n",
    "- [ ] 行動列の円グラフ「1日の0:00から3日の0:00まで」とかの切りのいい時はうまくいくが、それ以外の微妙な時刻からの開始・終了にも対応する\n",
    "- [ ] activity sequence 生成の行動の開始時刻や継続時間のサンプリングの記述を整頓する。例として、Activity.sampling_duration にはremainder と開始時間を入力に取るようにしたり、基本行動の開始時刻のサンプリングを切断正規分布を用いたり、day_schedule.update_schedule 内に短い行動を防ぐ例外処理をまとめたりする。\n",
    "- [ ] 拡張1. 既に行動 B と C が決まっている場合、行動 A を (1) もしくは (2) のどちらかの条件を満たすように入れる。 (1) A が B と C の間にないといけない。 (2) A が B と C の間にあってはいけない。 拡張2. (1)行動 A が行動 B から T_c [分]よりも離れている。(2) 行動 A が行動 B からT_c [分]以内に作られる。拡張1と拡張2を合わせて考えると、拡張 1_2 : 行動 A が行動 B の前（または後ろ）の M[分]以内に存在する（または存在しない）。を実装できればよい？ただし、拡張1_2の形式にすると、夕食後睡眠前に取る行動Aを実装するには、事前にMを指定できず、既にサンプリングした夕食の終了時刻と睡眠の開始時刻に依存する。\n",
    "- [ ] 拡張した行動をもう少しわかりやすい形で整頓する（MetaActivity をわかりやすくする。）\n",
    "- [ ] activity.dertermine_place() の Notes に書かれているように、行動場所の選択にランダム性を追加する拡張。\n",
    "- [ ] 基本行動間の分布の重なり度合いから，リサンプリングがうまくいきそうかどうかを事前に警告する．FundamentalActivity.sampling_start_time() 内のlower_limitの例外に該当しそうかどうかもこの事前のうちに済ませておく．\n",
    "\n",
    "### Walking trajectory\n",
    "- [x] new_functions.direct_path をきれいにする\n",
    "- [ ] 移動経路の gif 画像\n",
    "- [ ] dijkstra 法の所を高速にできるか？\n",
    "- [ ] 異なるwalking 同士が重なってしまうエラー（A->B->C の移動において，A->B と B->C が重なってしまう現象）の改善方法。案1. 極端に短い行動時間の行動をうまく消す？ 案2. 移動経路を作成する段階で、もしも移動が重なる場合、後ろの行動の開始時刻をずらすことで対応する。修正した行動列も一緒に出力する。\n",
    "\n",
    "### Sensors\n",
    "- [x] PIRと圧力と家電センサのログからそれらを一つにまとめたものを作る関数\n",
    "- [ ] ドアセンサ実装\n",
    "- [ ] 圧力センサが行動終了時に消すか消さないかをセンサデータ生成時に行動の種類によって分ける。例として、睡眠（ベッドに上る）やトイレ，外出（そこにとどまらない）は圧力センサを切る，反対に調理や机の下などはセンサをオンにするなど.\n",
    "- [ ] 現状家電センサは行動時間中にセンサがついているとしているが，次の行動への歩き初めには消したり，行動時間中でもランダムにつけたり消したりするようにする\n",
    "- [ ] センサごとにサンプリングレートが異なる拡張\n",
    "- [ ] 各センサの出力をベルヌーイ分布などで誤差を加える．\n",
    "\n",
    "### Anomalies\n",
    "- [ ] 転倒に関して、転びやすい場所を discomfortable value を用いて実現できるか？\n",
    "- [ ] sensor_model.Sensor とActivity.home_equipment と calculate_sensor_record_of_a_home_equipment あたりの家電センサの記述を連携させられるか\n",
    "- [ ] 現状閉じこもりと準寝たきりが同時に発生した時の外出回数の減少は、準寝たきりによる減少を優先している。同時に（行動の統計量に影響を与える）複数の異常が発生した時の優先順位をどう決めるかをわかりやすくしたい。\n",
    "\n",
    "### Others\n",
    "- [ ] start, end を持つ時間区間に関してのクラスnew_function.TimeInterval を活用するか？duration()やincludes(t)（timedeltaオブジェクトがstart, endの間に入るか）などの関数がある。\n",
    "- [ ] 行動や異常の各パラメータ一覧を出力、保存 (pack)、再利用 (unpack) できる関数\n",
    "- [ ] 全体的にパラメータ名をもう少し短く簡潔にする\n",
    "- [ ] decostring をきれいに書く。"
   ]
  },
  {
   "cell_type": "markdown",
   "id": "tutorial-belize",
   "metadata": {},
   "source": [
    "# Import libralies"
   ]
  },
  {
   "cell_type": "code",
   "execution_count": 1,
   "id": "jewish-police",
   "metadata": {
    "tags": []
   },
   "outputs": [],
   "source": [
    "import itertools\n",
    "import os\n",
    "import pprint\n",
    "import random\n",
    "import time\n",
    "from copy import deepcopy\n",
    "from pathlib import Path\n",
    "from datetime import timedelta\n",
    "import matplotlib.pyplot as plt\n",
    "import numpy as np\n",
    "\n",
    "# self-made\n",
    "import activity_model\n",
    "import analysis\n",
    "import anomaly\n",
    "import comparison\n",
    "import floor_plan\n",
    "\n",
    "import new_functions\n",
    "import sensor_model\n",
    "\n",
    "working_path = Path().resolve()\n",
    "layout_data_path = working_path / 'layout_data'"
   ]
  },
  {
   "cell_type": "markdown",
   "id": "71ec884b-2a3a-4168-a269-4a5342488d27",
   "metadata": {},
   "source": [
    "# Analyze long-term data"
   ]
  },
  {
   "cell_type": "code",
   "execution_count": 2,
   "id": "b3e2a44a-8b61-4881-a099-7091e591751c",
   "metadata": {
    "tags": []
   },
   "outputs": [
    {
     "name": "stdout",
     "output_type": "stream",
     "text": [
      "dict_keys(['MMSE', 'housebound', 'semi_bedridden', 'forgetting', 'wandering', 'fall_w', 'fall_s', 'fall while walking', 'fall while standing'])\n",
      "[(datetime.timedelta(seconds=20843, microseconds=700000), 11, True), (datetime.timedelta(seconds=20843, microseconds=700000), 23, True), (datetime.timedelta(seconds=20844, microseconds=300000), 11, False)]\n",
      "18.07 MB\n"
     ]
    }
   ],
   "source": [
    "# Load sensor data and anomaly labels\n",
    "path = Path(layout_data_path / 'test_layout' / 'test_data_1')  # data path\n",
    "SD = new_functions.pickle_load(path, 'SD')\n",
    "AL = new_functions.pickle_load(path, 'AL')\n",
    "\n",
    "AL_periods = {}\n",
    "AL_periods[anomaly.BEING_SEMI_BEDRIDDEN] = AL['semi_bedridden']\n",
    "AL_periods[anomaly.BEING_HOUSEBOUND] = AL['housebound']\n",
    "AL_periods[anomaly.FORGETTING] = [(x[4], x[5]) for x in AL['forgetting']]\n",
    "AL_periods[anomaly.WANDERING] = [(x[1], x[2]) for x in AL['wandering']]\n",
    "AL_periods[anomaly.FALL_WHILE_WALKING] = [(x[0], x[0] + timedelta(seconds = x[1])) for x in AL[anomaly.FALL_WHILE_WALKING]]\n",
    "AL_periods[anomaly.FALL_WHILE_STANDING] = [(x[0], x[0] + timedelta(seconds = x[1])) for x in AL[anomaly.FALL_WHILE_STANDING]]\n",
    "\n",
    "print(AL.keys())\n",
    "print(SD[:3])\n",
    "print(analysis.memory_size(SD))"
   ]
  },
  {
   "cell_type": "code",
   "execution_count": 3,
   "id": "a7364e7b-8835-42a0-9ada-d3b7a29c7adb",
   "metadata": {
    "tags": []
   },
   "outputs": [
    {
     "name": "stdout",
     "output_type": "stream",
     "text": [
      "(279936000, 28)\n",
      "(279936000, 6)\n",
      "[0, 1, 2, 3, 4, 5, 6, 7, 8, 9, 10, 11, 12, 13, 14, 15, 16, 17, 18, 19, 20, 21, 22, 23, 24, 25, 26, 27]\n",
      "['being semi-bedridden', 'being housebound', 'forgetting', 'wandering', 'fall while walking', 'fall while standing']\n",
      "589.92 [s].\n"
     ]
    }
   ],
   "source": [
    "temp_time = time.time()\n",
    "start = timedelta(days = 0)\n",
    "end = timedelta(days = 360 * 9)\n",
    "duration = timedelta(seconds = 1)\n",
    "_type = 'last-fired'\n",
    "(SD_mat, SD_names, AL_mat, AL_names) = analysis.matrix_with_discretized_time_interval(SD,\n",
    "                                        AL_periods, start, end, duration, _type = _type)\n",
    "print(SD_mat.shape)\n",
    "print(AL_mat.shape)\n",
    "print(SD_names)\n",
    "print(AL_names)\n",
    "print(\"{:.2f} [s].\".format(time.time() - temp_time))"
   ]
  },
  {
   "cell_type": "code",
   "execution_count": 4,
   "id": "4f0e9b8c-0d28-477d-941c-648298df48df",
   "metadata": {},
   "outputs": [],
   "source": [
    "LF = []\n",
    "for (i, sd) in enumerate(SD_mat):\n",
    "    True_pos = np.where(np.array(sd == True))[0]\n",
    "    if len(True_pos) == 1:\n",
    "        LF.append(True_pos[0])\n",
    "    elif len(True_pos) == 0:\n",
    "        continue    # No sensor is activated\n",
    "    else:\n",
    "        raise ValueError('More than two data is activated.')\n",
    "LF = np.array(LF)\n",
    "\n",
    "WL = []  # wanderin label (WL)\n",
    "for i in range(SD_mat.shape[0] - LF.shape[0], SD_mat.shape[0]):\n",
    "    WL.append(AL_mat[i][3])\n",
    "WL = np.array(WL)\n",
    "\n",
    "normal_data = []\n",
    "anomaly_data = []\n",
    "normal_range = []\n",
    "anomaly_range = []\n",
    "in_range = False\n",
    "start = None\n",
    "for (i, x) in enumerate(WL):\n",
    "    if not(in_range) and x:\n",
    "        start = i\n",
    "        in_range = True\n",
    "    if in_range and not(x):\n",
    "        in_range = False\n",
    "        anomaly_range.append((start, i))\n",
    "        \n",
    "start = 0\n",
    "for (s, e) in anomaly_range:\n",
    "    normal_range.append((start, s))\n",
    "    start = e\n",
    "normal_range.append((start, anomaly_range[-1][1]))\n",
    "\n",
    "for (s, e) in normal_range:\n",
    "    data = LF[s:e]\n",
    "    if data.size != 0:\n",
    "        normal_data.append(data.reshape((len(data), 1)))\n",
    "for (s, e) in anomaly_range:\n",
    "    data = LF[s:e]\n",
    "    if data.size != 0:\n",
    "        anomaly_data.append(data.reshape((len(data), 1)))"
   ]
  },
  {
   "cell_type": "code",
   "execution_count": 17,
   "id": "5e89da9d-785b-4c70-b497-1fac62a1ad83",
   "metadata": {},
   "outputs": [],
   "source": [
    "path = layout_data_path / 'test_layout' / 'test_data_1'\n",
    "# SD_mat = new_functions.pickle_load(path / 'experiment1', 'SD_mat')\n",
    "# SD_names = new_functions.pickle_load(path / 'experiment1', 'SD_names')\n",
    "# AL_mat = new_functions.pickle_load(path / 'experiment1', 'AL_mat')\n",
    "# AL_names = new_functions.pickle_load(path / 'experiment1', 'AL_names')\n",
    "# LF1 = new_functions.pickle_load(path / 'experiment1', 'LF')\n",
    "# WL1 = new_functions.pickle_load(path / 'experiment1', 'WL')\n",
    "normal_data = new_functions.pickle_load(path / 'experiment1', 'normal_data')\n",
    "anomaly_data = new_functions.pickle_load(path / 'experiment1', 'anomaly_data')"
   ]
  },
  {
   "cell_type": "code",
   "execution_count": null,
   "id": "fa400871-c983-44c1-9f7b-0b1dcdcfbb97",
   "metadata": {},
   "outputs": [],
   "source": [
    "from hmmlearn import hmm\n",
    "hidden_states = 20\n",
    "temp_time = time.time()\n",
    "normal_train = np.concatenate(normal_data, axis = 0)\n",
    "normal_lengths = np.array([len(d) for d in normal_data])\n",
    "normal_model = hmm.CategoricalHMM(n_components = hidden_states).fit(normal_train, normal_lengths)\n",
    "\n",
    "anomaly_train = np.concatenate(anomaly_data, axis = 0)\n",
    "anomaly_lengths = np.array([len(d) for d in anomaly_data])\n",
    "anomaly_model = hmm.CategoricalHMM(n_components = hidden_states, n_features = 28).fit(anomaly_train, anomaly_lengths)\n",
    "\n",
    "print(normal_model.monitor_)\n",
    "print(normal_model.monitor_.converged)\n",
    "print(anomaly_model.monitor_)\n",
    "print(anomaly_model.monitor_.converged)\n",
    "print(\"{:.2f} [s].\".format(time.time() - temp_time))\n",
    "\n",
    "path = layout_data_path / 'test_layout' / 'test_data_1'\n",
    "new_functions.pickle_dump(path / 'experiment1', f'normal_HMM{hidden_states}', normal_model)\n",
    "new_functions.pickle_dump(path / 'experiment1', f'anomaly_HMM{hidden_states}', anomaly_model)"
   ]
  },
  {
   "cell_type": "code",
   "execution_count": 4,
   "id": "f9e67aee-da97-4445-a15d-fc591c1a4a67",
   "metadata": {},
   "outputs": [],
   "source": [
    "hidden_states = 20\n",
    "path = layout_data_path / 'test_layout' / 'test_data_1'\n",
    "normal_model = new_functions.pickle_load((path / 'experiment1', f'normal_HMM{hidden_states}')\n",
    "anomaly_model = new_functions.pickle_load((path / 'experiment1', f'anomaly_HMM{hidden_states}')"
   ]
  },
  {
   "cell_type": "code",
   "execution_count": 30,
   "id": "42ad34de-7fcc-4f50-bcc8-d9f7ce5e286a",
   "metadata": {},
   "outputs": [
    {
     "name": "stdout",
     "output_type": "stream",
     "text": [
      "(61, 1)\n",
      "1.2088365499903305e-47\n",
      "2.4192340199545163e-87\n",
      "False\n"
     ]
    }
   ],
   "source": [
    "data = normal_data[10][:61]\n",
    "print(data.shape)\n",
    "normal_score, state_sequence = normal_model.decode(data)\n",
    "print(np.exp(normal_score))\n",
    "anomaly_score = anomaly_model.score(data)\n",
    "print(np.exp(anomaly_score))\n",
    "print(normal_score < anomaly_score)"
   ]
  },
  {
   "cell_type": "code",
   "execution_count": 21,
   "id": "261cf9cd-cd85-4219-b424-d4291c78df66",
   "metadata": {},
   "outputs": [
    {
     "name": "stdout",
     "output_type": "stream",
     "text": [
      "[False, True, True, True, False, False, False, False, True, True, True, True, False, True, False, True, True, True, False, True, True, True, False, True, False, False, False, False]\n"
     ]
    }
   ],
   "source": [
    "one_sensor_activated = []\n",
    "for i in range(28):\n",
    "    data = np.array([i for _ in range(61)]).reshape((61, 1))\n",
    "    one_sensor_activated.append(anomaly_model.score(data) > normal_model.score(data))\n",
    "print(one_sensor_activated)\n"
   ]
  },
  {
   "cell_type": "code",
   "execution_count": 38,
   "id": "77cf0832-e608-4537-90b4-64c654f8c3f2",
   "metadata": {},
   "outputs": [
    {
     "name": "stdout",
     "output_type": "stream",
     "text": [
      "[[2.95889856e-01 2.91413393e-08 3.64894731e-04 7.03745220e-01]\n",
      " [1.35205669e-07 2.74431305e-01 7.25568558e-01 1.57736246e-09]\n",
      " [6.99458927e-04 3.92852339e-01 6.06448162e-01 3.97978439e-08]\n",
      " [9.89204760e-01 3.90463264e-08 9.09852372e-04 9.88534843e-03]]\n",
      "[[1.34130855e-01 2.28654506e-12 1.03273453e-04 2.22197733e-04\n",
      "  1.14244090e-01 3.07067742e-05 2.04524684e-01 1.66584685e-02\n",
      "  1.43360236e-06 8.16138672e-22 2.26267592e-10 8.50793013e-06\n",
      "  5.90924469e-05 6.38799967e-14 3.09347178e-31 1.98422318e-29\n",
      "  1.10318329e-25 6.83444619e-07 1.58611374e-01 5.20748584e-05\n",
      "  1.18663260e-05 2.64815985e-04 3.10688675e-06 4.10016097e-03\n",
      "  2.89773255e-17 8.36456609e-34 2.07205485e-01 1.59767124e-01]\n",
      " [9.89882980e-24 3.70207258e-05 5.68728880e-05 3.56880412e-03\n",
      "  1.19267857e-05 1.45273419e-01 9.78081483e-10 4.38919409e-08\n",
      "  5.86128596e-04 5.04213224e-02 3.44224208e-04 9.10394141e-03\n",
      "  2.60118974e-02 1.22286652e-04 4.83578363e-03 2.72800772e-02\n",
      "  7.72209073e-04 5.92490916e-02 3.76614188e-07 3.24279474e-02\n",
      "  1.28767462e-05 4.00389716e-06 5.97888301e-01 4.70076493e-07\n",
      "  8.34805225e-04 4.11561683e-02 8.79927413e-12 4.58874802e-11]\n",
      " [3.13166282e-19 5.70993293e-05 1.38739232e-04 4.24369102e-03\n",
      "  2.18421486e-04 1.46585472e-01 2.43501715e-06 1.94548093e-06\n",
      "  7.22277029e-04 5.03361645e-02 4.46770944e-04 8.76619454e-03\n",
      "  2.82414908e-02 1.29192791e-04 5.73777998e-03 2.50587322e-02\n",
      "  7.93099035e-04 5.78741118e-02 4.97308172e-04 3.28734691e-02\n",
      "  3.18502504e-05 7.77535242e-05 5.96453653e-01 7.18242942e-05\n",
      "  9.32177599e-04 3.97082647e-02 7.33594405e-08 8.10431044e-09]\n",
      " [1.34175348e-01 2.70048787e-11 7.28646079e-05 3.32120568e-04\n",
      "  1.14090288e-01 1.04445351e-10 2.04639190e-01 1.65975060e-02\n",
      "  1.70756119e-08 2.16161382e-23 1.39627785e-18 2.24477753e-07\n",
      "  3.34084089e-05 8.91063564e-17 1.51951579e-34 1.14953004e-35\n",
      "  5.49066524e-43 1.00529145e-08 1.58533502e-01 1.23374658e-06\n",
      "  2.04825832e-05 2.78226813e-04 5.50936173e-08 4.10278513e-03\n",
      "  3.21382262e-18 1.03022515e-55 2.07261107e-01 1.59861630e-01]]\n"
     ]
    }
   ],
   "source": [
    "print(normal_model.transmat_)\n",
    "print(normal_model.emissionprob_)"
   ]
  },
  {
   "cell_type": "code",
   "execution_count": 27,
   "id": "6f5fa918-34d7-46b6-bdf4-56aa1bd473b8",
   "metadata": {},
   "outputs": [
    {
     "name": "stdout",
     "output_type": "stream",
     "text": [
      "6.663548941219761e-250\n",
      "[1 2 2 2 2 2 2 2 2 2 2 2 2 2 2 2 2 2 2 2 2 2 2 2 2 2 2 2 2 2 2 2 2 2 2 2 2\n",
      " 2 2 2 2 2 2 2 2 2 2 2 2 2 2 2 2 2 2 2 2 2 2 2 2]\n",
      "1.5956990718243536e-89\n",
      "[3 0 1 2 3 0 1 2 3 0 1 2 3 0 1 2 3 0 1 2 3 0 1 2 3 0 1 2 3 0 1 2 3 0 1 2 3\n",
      " 0 1 2 3 0 1 2 3 0 1 2 3 0 1 2 3 0 1 2 3 0 1 2 3]\n"
     ]
    }
   ],
   "source": [
    "data = np.array([2 for _ in range(61)]).reshape((61, 1))\n",
    "prob, states = normal_model.decode(data)\n",
    "print(np.exp(prob))\n",
    "print(states)\n",
    "prob, states = anomaly_model.decode(data)\n",
    "print(np.exp(prob))\n",
    "print(states)"
   ]
  },
  {
   "cell_type": "code",
   "execution_count": 6,
   "id": "ccda7ccd-6b3f-44a3-9942-d20c73ff42fa",
   "metadata": {},
   "outputs": [
    {
     "name": "stdout",
     "output_type": "stream",
     "text": [
      "0.009999997927987994\n",
      "0.019999995855975988\n",
      "0.029999993783963983\n",
      "0.039999991711951975\n",
      "0.04999998963993997\n",
      "0.059999987567927966\n",
      "0.06999998549591596\n",
      "0.07999998342390395\n",
      "0.08999998135189195\n",
      "0.09999997927987994\n",
      "0.10999997720786794\n",
      "0.11999997513585593\n",
      "0.12999997306384392\n",
      "0.13999997099183192\n",
      "0.14999996891981993\n",
      "0.1599999668478079\n",
      "0.1699999647757959\n",
      "0.1799999627037839\n",
      "0.18999996063177188\n",
      "0.19999995855975988\n",
      "0.20999995648774789\n",
      "0.2199999544157359\n",
      "0.22999995234372386\n",
      "0.23999995027171186\n",
      "0.24999994819969987\n",
      "0.25999994612768784\n",
      "0.26999994405567584\n",
      "0.27999994198366385\n",
      "0.28999993991165185\n",
      "0.29999993783963985\n",
      "0.3099999357676278\n",
      "0.3199999336956158\n",
      "0.3299999316236038\n",
      "0.3399999295515918\n",
      "0.3499999274795798\n",
      "0.3599999254075678\n",
      "0.3699999233355558\n",
      "0.37999992126354376\n",
      "0.38999991919153176\n",
      "0.39999991711951977\n",
      "0.40999991504750777\n",
      "0.41999991297549577\n",
      "0.4299999109034838\n",
      "0.4399999088314718\n",
      "0.4499999067594597\n",
      "0.4599999046874477\n",
      "0.4699999026154357\n",
      "0.47999990054342373\n",
      "0.48999989847141173\n",
      "0.49999989639939973\n",
      "0.5099998943273877\n",
      "0.5199998922553757\n",
      "0.5299998901833637\n",
      "0.5399998881113517\n",
      "0.5499998860393397\n",
      "0.5599998839673277\n",
      "0.5699998818953157\n",
      "0.5799998798233037\n",
      "0.5899998777512917\n",
      "0.5999998756792797\n",
      "0.6099998736072677\n",
      "0.6199998715352556\n",
      "0.6299998694632436\n",
      "0.6399998673912316\n",
      "0.6499998653192196\n",
      "0.6599998632472076\n",
      "0.6699998611751956\n",
      "0.6799998591031836\n",
      "0.6899998570311716\n",
      "0.6999998549591596\n",
      "0.7099998528871476\n",
      "0.7199998508151356\n",
      "0.7299998487431236\n",
      "0.7399998466711116\n",
      "0.7499998445990996\n",
      "0.7599998425270875\n",
      "0.7699998404550755\n",
      "0.7799998383830635\n",
      "0.7899998363110515\n",
      "0.7999998342390395\n",
      "0.8099998321670275\n",
      "0.8199998300950155\n",
      "0.8299998280230035\n",
      "0.8399998259509915\n",
      "0.8499998238789795\n",
      "0.8599998218069675\n",
      "0.8699998197349555\n",
      "0.8799998176629436\n",
      "0.8899998155909316\n",
      "0.8999998135189194\n",
      "0.9099998114469074\n",
      "0.9199998093748954\n",
      "0.9299998073028835\n",
      "0.9399998052308715\n",
      "0.9499998031588595\n",
      "0.9599998010868475\n",
      "0.9699997990148355\n",
      "0.9799997969428235\n",
      "0.9899997948708115\n",
      "0.9999997927987995\n",
      "81077.09 [s].\n"
     ]
    }
   ],
   "source": [
    "temp_time = time.time()\n",
    "\n",
    "w = 61\n",
    "half_w = int((w-1) / 2)\n",
    "y_true = []\n",
    "y_pred = []\n",
    "total_len = int(LF.shape[0] - w)\n",
    "diff = int(total_len / 100)\n",
    "for i in range(half_w , int(LF.shape[0] - half_w)):\n",
    "    if i % diff == 0:\n",
    "        print(f\"{i / total_len}\")\n",
    "    data = LF[i - half_w: i + half_w + 1]\n",
    "    data = data.reshape((len(data), 1))\n",
    "    y_true.append(WL[i])\n",
    "    y_pred.append(anomaly_model.score(data) > normal_model.score(data))\n",
    "    \n",
    "print(\"{:.2f} [s].\".format(time.time() - temp_time))"
   ]
  },
  {
   "cell_type": "code",
   "execution_count": 7,
   "id": "bb14d6ac-dd2a-46bc-8eae-4b88afb687e2",
   "metadata": {},
   "outputs": [
    {
     "name": "stdout",
     "output_type": "stream",
     "text": [
      "[[206182594  73542134]\n",
      " [     5780    190651]]\n",
      "              precision    recall  f1-score   support\n",
      "\n",
      "       False       1.00      0.74      0.85 279724728\n",
      "        True       0.00      0.97      0.01    196431\n",
      "\n",
      "    accuracy                           0.74 279921159\n",
      "   macro avg       0.50      0.85      0.43 279921159\n",
      "weighted avg       1.00      0.74      0.85 279921159\n",
      "\n"
     ]
    }
   ],
   "source": [
    "from sklearn.metrics import classification_report, confusion_matrix\n",
    "print(confusion_matrix(y_true, y_pred))\n",
    "print(classification_report(y_true, y_pred))"
   ]
  },
  {
   "cell_type": "code",
   "execution_count": null,
   "id": "b91f71f4-9e50-4889-a19d-44607d6b0807",
   "metadata": {},
   "outputs": [],
   "source": []
  },
  {
   "cell_type": "code",
   "execution_count": 3,
   "id": "a298c17c-7969-44be-98a6-d33d1eab0492",
   "metadata": {
    "tags": []
   },
   "outputs": [
    {
     "name": "stdout",
     "output_type": "stream",
     "text": [
      "Single one-dimensional time-series data\n",
      "0.18904007841994036\n",
      "[0 0 0 0 0 0 0 0 0 0]\n",
      "\n",
      "Single multi-dimensional time-series data\n",
      "\n",
      "Multiple one-dimensional time-series data\n",
      "0.5544686707439423\n",
      "[0 1 0 1 0 1 0 1 0 1 0 1 0 1 0 1 0 1 0 1]\n",
      "\n",
      "Multiple multi-dimensional time-series data\n",
      "6.937229228472007e-06\n",
      "[1 1]\n"
     ]
    },
    {
     "name": "stderr",
     "output_type": "stream",
     "text": [
      "C:\\Users\\tanakai\\miniconda3\\lib\\site-packages\\sklearn\\cluster\\_kmeans.py:1382: UserWarning: KMeans is known to have a memory leak on Windows with MKL, when there are less chunks than available threads. You can avoid it by setting the environment variable OMP_NUM_THREADS=1.\n",
      "  warnings.warn(\n"
     ]
    }
   ],
   "source": [
    "# Hidden Markov model\n",
    "# tutorial of hmmlearn: https://hmmlearn.readthedocs.io/en/latest/tutorial.html\n",
    "# hmmlearn for multi-output sequences: https://github.com/hmmlearn/hmmlearn/issues/128\n",
    "# multi-dimensional output: https://stackoverflow.com/questions/17487356/hidden-markov-model-for-multiple-observed-variables\n",
    "import numpy as np\n",
    "from hmmlearn import hmm\n",
    "\n",
    "# Single one-dimensional time-series data\n",
    "print('Single one-dimensional time-series data')\n",
    "X_train = np.random.randint(0, 1, size = (100, 1))\n",
    "X_test = np.random.randint(0, 1, size = (10, 1))\n",
    "model = hmm.CategoricalHMM(n_components = 2).fit(X_train)\n",
    "logprob, state_sequence = model.decode(X_test)\n",
    "print(np.exp(logprob))\n",
    "print(state_sequence)\n",
    "\n",
    "# Single multi-dimensional time-series data  ->  Dynamic naive bayes classifier\n",
    "print('\\nSingle multi-dimensional time-series data')\n",
    "X_train = np.random.randint(0, 1, size = (100, 2))\n",
    "X_test = np.random.randint(0, 1, size = (10, 2))\n",
    "\n",
    "# Multiple one-dimensional time-series data\n",
    "print('\\nMultiple one-dimensional time-series data')\n",
    "X_train_1 = np.random.randint(0, 1, size = (100, 1)).reshape((100, 1))\n",
    "X_train_2 = np.random.randint(0, 1, size = (200, 1)).reshape((200, 1))\n",
    "X_train = np.concatenate([X_train_1, X_train_2])\n",
    "lengths = np.array([len(X_train_1), len(X_train_2)])\n",
    "X_test = np.random.randint(0, 1, size = (20, 1))\n",
    "model = hmm.CategoricalHMM(n_components = 2).fit(X_train, lengths)\n",
    "logprob, state_sequence = model.decode(X_test)\n",
    "print(np.exp(logprob))\n",
    "print(state_sequence)\n",
    "\n",
    "# Multiple multi-dimensional time-series data\n",
    "print('\\nMultiple multi-dimensional time-series data')\n",
    "X_train_1 = np.random.random((10, 3))\n",
    "X_train_2 = np.random.random((5, 3))\n",
    "X_train = np.concatenate([X_train_1, X_train_2])\n",
    "lengths = np.array([len(X_train_1), len(X_train_2)])\n",
    "model = hmm.GaussianHMM(n_components=2).fit(X_train, lengths)  # multidimensional gaussian\n",
    "\n",
    "X_test = np.array([[0, 1, 0], [1, 0, 0]])\n",
    "logprob, state_sequence = model.decode(X_test)\n",
    "print(np.exp(logprob))\n",
    "print(state_sequence)"
   ]
  },
  {
   "cell_type": "code",
   "execution_count": null,
   "id": "216338d2-6460-4d5c-9770-32b18e71254b",
   "metadata": {},
   "outputs": [],
   "source": []
  },
  {
   "cell_type": "code",
   "execution_count": null,
   "id": "4018778d-6a53-4b1a-bc1f-983d8f406ec8",
   "metadata": {},
   "outputs": [],
   "source": []
  },
  {
   "cell_type": "code",
   "execution_count": null,
   "id": "6140db81-ffa2-47de-8482-0d3ae53fc343",
   "metadata": {},
   "outputs": [],
   "source": []
  },
  {
   "cell_type": "code",
   "execution_count": 3,
   "id": "3ea95de4-0f96-4d19-8864-476b82f7bd1a",
   "metadata": {
    "tags": []
   },
   "outputs": [
    {
     "name": "stdout",
     "output_type": "stream",
     "text": [
      "[[False False False]\n",
      " [False False False]\n",
      " [False False False]\n",
      " [False False False]\n",
      " [False False False]\n",
      " [False False False]\n",
      " [ True False False]\n",
      " [ True False False]\n",
      " [False  True False]\n",
      " [False  True False]\n",
      " [False False  True]\n",
      " [False False  True]\n",
      " [False  True False]\n",
      " [False  True False]\n",
      " [ True False False]\n",
      " [ True False False]\n",
      " [False  True False]\n",
      " [False  True False]\n",
      " [False False  True]\n",
      " [False False  True]\n",
      " [ True False False]\n",
      " [ True False False]\n",
      " [False  True False]\n",
      " [False  True False]\n",
      " [ True False False]\n",
      " [ True False False]\n",
      " [ True False False]\n",
      " [ True False False]\n",
      " [ True False False]\n",
      " [ True False False]\n",
      " [ True False False]\n",
      " [ True False False]\n",
      " [ True False False]\n",
      " [ True False False]\n",
      " [ True False False]\n",
      " [ True False False]\n",
      " [ True False False]\n",
      " [ True False False]\n",
      " [ True False False]\n",
      " [ True False False]]\n",
      "[0, 1, 2]\n",
      "-1 day, 23:59:40 [False False False]\n",
      "-1 day, 23:59:45 [False False False]\n",
      "-1 day, 23:59:50 [False False False]\n",
      "-1 day, 23:59:55 [False False False]\n",
      "0:00:00 [False False False]\n",
      "0:00:05 [False False False]\n",
      "0:00:10 [ True False False]\n",
      "0:00:15 [ True False False]\n",
      "0:00:20 [False  True False]\n",
      "0:00:25 [False  True False]\n",
      "0:00:30 [False False  True]\n",
      "0:00:35 [False False  True]\n",
      "0:00:40 [False  True False]\n",
      "0:00:45 [False  True False]\n",
      "0:00:50 [ True False False]\n",
      "0:00:55 [ True False False]\n",
      "0:01:00 [False  True False]\n",
      "0:01:05 [False  True False]\n",
      "0:01:10 [False False  True]\n",
      "0:01:15 [False False  True]\n",
      "0:01:20 [ True False False]\n",
      "0:01:25 [ True False False]\n",
      "0:01:30 [False  True False]\n",
      "0:01:35 [False  True False]\n",
      "0:01:40 [ True False False]\n",
      "0:01:45 [ True False False]\n",
      "0:01:50 [ True False False]\n",
      "0:01:55 [ True False False]\n",
      "0:02:00 [ True False False]\n",
      "0:02:05 [ True False False]\n",
      "0:02:10 [ True False False]\n",
      "0:02:15 [ True False False]\n",
      "0:02:20 [ True False False]\n",
      "0:02:25 [ True False False]\n",
      "0:02:30 [ True False False]\n",
      "0:02:35 [ True False False]\n",
      "0:02:40 [ True False False]\n",
      "0:02:45 [ True False False]\n",
      "0:02:50 [ True False False]\n",
      "0:02:55 [ True False False]\n",
      "-1 day, 23:59:40 [False False]\n",
      "-1 day, 23:59:45 [False False]\n",
      "-1 day, 23:59:50 [False False]\n",
      "-1 day, 23:59:55 [False False]\n",
      "0:00:00 [False False]\n",
      "0:00:05 [False False]\n",
      "0:00:10 [False False]\n",
      "0:00:15 [False False]\n",
      "0:00:20 [ True False]\n",
      "0:00:25 [ True False]\n",
      "0:00:30 [ True False]\n",
      "0:00:35 [ True False]\n",
      "0:00:40 [ True  True]\n",
      "0:00:45 [ True  True]\n",
      "0:00:50 [ True  True]\n",
      "0:00:55 [ True False]\n",
      "0:01:00 [ True False]\n",
      "0:01:05 [False False]\n",
      "0:01:10 [False  True]\n",
      "0:01:15 [False  True]\n",
      "0:01:20 [ True  True]\n",
      "0:01:25 [ True  True]\n",
      "0:01:30 [ True  True]\n",
      "0:01:35 [False  True]\n",
      "0:01:40 [False  True]\n",
      "0:01:45 [False False]\n",
      "0:01:50 [False False]\n",
      "0:01:55 [False False]\n",
      "0:02:00 [False False]\n",
      "0:02:05 [False False]\n",
      "0:02:10 [False False]\n",
      "0:02:15 [False False]\n",
      "0:02:20 [False False]\n",
      "0:02:25 [False False]\n",
      "0:02:30 [False False]\n",
      "0:02:35 [False False]\n",
      "0:02:40 [False False]\n",
      "0:02:45 [False False]\n",
      "0:02:50 [False False]\n",
      "0:02:55 [False False]\n"
     ]
    }
   ],
   "source": [
    "# Test for analysis.matrix_with_discretized_time_interval\n",
    "test_SD = [(timedelta(seconds = 10), 0, True), (timedelta(seconds = 50), 0, False),\n",
    "           (timedelta(seconds = 80), 0, True), (timedelta(seconds = 100), 0, False),\n",
    "           (timedelta(seconds = 20), 1, True), (timedelta(seconds = 40), 1, False),\n",
    "           (timedelta(seconds = 60), 1, True), (timedelta(seconds = 90), 1, False),\n",
    "           (timedelta(seconds = 30), 2, True), (timedelta(seconds = 70), 2, False)]\n",
    "\n",
    "test_AL = {'A': [(timedelta(seconds = 20), timedelta(seconds = 60)), (timedelta(seconds = 80), timedelta(seconds = 90))], \n",
    "           'B': [(timedelta(seconds = 40), timedelta(seconds = 50)), (timedelta(seconds = 70), timedelta(seconds = 100))]}\n",
    "\n",
    "test_SD.sort(key = lambda x: x[0])\n",
    "start = timedelta(seconds = -20)\n",
    "end = timedelta(seconds = 180)\n",
    "step = timedelta(seconds = 5)\n",
    "(SD_mat, SD_names, AL_mat, AL_names) = analysis.matrix_with_discretized_time_interval(test_SD, test_AL, start, end, step, _type = 'last-fired')\n",
    "print(SD_mat)\n",
    "print(SD_names)\n",
    "for (i, sd) in enumerate(SD_mat):\n",
    "    print(f\"{timedelta(seconds = i*step.seconds) + start} {sd}\")   \n",
    "for (i, x) in enumerate(AL_mat):\n",
    "    print(f\"{timedelta(seconds = i*step.seconds) + start} {x}\")"
   ]
  },
  {
   "cell_type": "code",
   "execution_count": null,
   "id": "2ca9a9da-f7bd-4b40-adaa-1c8f86f15e04",
   "metadata": {},
   "outputs": [],
   "source": []
  },
  {
   "cell_type": "code",
   "execution_count": 4,
   "id": "bf19ffb7-ce4c-4619-a6df-2c870537fe1a",
   "metadata": {},
   "outputs": [
    {
     "name": "stdout",
     "output_type": "stream",
     "text": [
      "(28, 100)\n",
      "125\n",
      "[[False False False ... False False False]\n",
      " [False False False ... False False False]\n",
      " [False False False ... False False False]\n",
      " ...\n",
      " [False False False ... False False False]\n",
      " [False False False ... False False False]\n",
      " [False False False ...  True  True  True]]\n",
      "[False  True False  True False False]\n"
     ]
    }
   ],
   "source": [
    "path = Path(layout_data_path / 'test_layout' / 'test_data_1')  # data path\n",
    "\n",
    "indexes = list(range(28))\n",
    "\n",
    "time = timedelta(seconds = 41904)\n",
    "duration = timedelta(seconds = 10)\n",
    "rate = timedelta(seconds = 0.1)\n",
    "mat = analysis.window_matrix(SD, time, duration, rate, indexes)\n",
    "\n",
    "print(mat.shape)\n",
    "print(np.sum(mat))\n",
    "print(mat)\n",
    "\n",
    "a = analysis.label_vector(AL_periods, timedelta(days = 77, seconds = 29020))\n",
    "print(a)\n",
    "\n",
    "analysis.matrix2image(path, 'window_matrix', mat)"
   ]
  },
  {
   "cell_type": "code",
   "execution_count": null,
   "id": "0669bf43-c22d-4666-ad7a-c0dfe59e4702",
   "metadata": {},
   "outputs": [],
   "source": []
  },
  {
   "cell_type": "code",
   "execution_count": 4,
   "id": "29b65def-5f59-44f5-9bd4-0ef57d52b4b4",
   "metadata": {},
   "outputs": [
    {
     "name": "stdout",
     "output_type": "stream",
     "text": [
      "0:01:12\n"
     ]
    }
   ],
   "source": [
    "# matrix before a wandering\n",
    "wandering_index = 50\n",
    "test_wandering = AL_periods[anomaly.WANDERING][wandering_index]\n",
    "print(test_wandering[1] - test_wandering[0])\n",
    "indexes = list(range(28))\n",
    "duration = timedelta(seconds = 60)\n",
    "rate = timedelta(seconds = 0.1)\n",
    "sum_mat = analysis.window_matrix(SD, test_wandering[0], duration, rate, indexes)\n",
    "sum_mat = np.zeros((sum_mat.shape[0], sum_mat.shape[1]))\n",
    "count = 0\n",
    "for t in new_functions.date_generator(test_wandering[0], test_wandering[1], timedelta(seconds = 1)):\n",
    "    sum_mat += analysis.window_matrix(SD, t, duration, rate, indexes)\n",
    "    count += 1\n",
    "analysis.matrix2image(path, \"before_wandering{}\".format(wandering_index), sum_mat / count)"
   ]
  },
  {
   "cell_type": "code",
   "execution_count": null,
   "id": "16aba34e-289b-4560-a867-c7cf0e338248",
   "metadata": {},
   "outputs": [],
   "source": [
    "# matrix before a wandering\n",
    "wandering_index = 0\n",
    "test_wandering = AL_periods[anomaly.WANDERING][wandering_index]\n",
    "print(test_wandering[1] - test_wandering[0])\n",
    "indexes = list(range(28))\n",
    "duration = timedelta(seconds = 60)\n",
    "rate = timedelta(seconds = 0.1)\n",
    "sum_mat = analysis.window_matrix(SD, test_wandering[0], duration, rate, indexes)\n",
    "sum_mat = np.zeros((sum_mat.shape[0], sum_mat.shape[1]))\n",
    "count = 0\n",
    "for t in new_functions.date_generator(test_wandering[0], test_wandering[1], timedelta(seconds = 1)):\n",
    "    sum_mat += analysis.window_matrix(SD, t, duration, rate, indexes)\n",
    "    count += 1\n",
    "analysis.matrix2image(path, \"before_wandering{}\".format(wandering_index), sum_mat / count)"
   ]
  },
  {
   "cell_type": "code",
   "execution_count": 12,
   "id": "a5f5ec71-5cad-4513-8999-ead239913f72",
   "metadata": {},
   "outputs": [
    {
     "name": "stdout",
     "output_type": "stream",
     "text": [
      "Calculate the co-occurrence matrix of labels. 3239 days, 2:59:00 / 3240 days, 0:00:00..\r"
     ]
    }
   ],
   "source": [
    "# label correlation\n",
    "start_time = timedelta(days = 0)\n",
    "end_time = timedelta(days = 9 * 360)\n",
    "count = 0\n",
    "sum_mat = np.zeros((6, 6))\n",
    "progress_bar_step = timedelta(days = 1)\n",
    "temp_time = start_time\n",
    "for t in new_functions.date_generator(start_time, end_time, timedelta(seconds = 30)):\n",
    "    if t - temp_time > progress_bar_step:\n",
    "        temp_time = t\n",
    "        new_functions.print_progress_bar(end_time, t, 'Calculate the co-occurrence matrix of labels.')\n",
    "    count += 1\n",
    "    vec = analysis.label_vector(AL_periods, t)\n",
    "    vec = vec.reshape((len(vec), 1))\n",
    "    sum_mat += vec@(vec.T)\n",
    "analysis.matrix2image(path, \"label_cooccurrence\", sum_mat / count)"
   ]
  },
  {
   "cell_type": "markdown",
   "id": "ef9995e4-4255-4443-934f-b030528cf4f8",
   "metadata": {},
   "source": [
    "# Load activity data and sensor data from text file"
   ]
  },
  {
   "cell_type": "code",
   "execution_count": 3,
   "id": "dietary-mineral",
   "metadata": {
    "tags": []
   },
   "outputs": [
    {
     "name": "stdout",
     "output_type": "stream",
     "text": [
      "[(datetime.timedelta(days=3239), 'Sleep\\n'), (datetime.timedelta(days=3239, seconds=15882, microseconds=987281), 'Rest\\n'), (datetime.timedelta(days=3239, seconds=16326, microseconds=184109), 'Urination\\n')]\n",
      "[(datetime.timedelta(days=3239, seconds=15878, microseconds=200000), 22, True), (datetime.timedelta(days=3239, seconds=15879), 22, False), (datetime.timedelta(days=3239, seconds=15879, microseconds=300000), 2, True)]\n"
     ]
    }
   ],
   "source": [
    "AS = analysis.load_activity_sequence(data_save_path / 'AS.txt')\n",
    "SD = analysis.load_sensor_data(data_save_path / 'SD.txt')\n",
    "print(AS[:3])\n",
    "print(SD[:3])"
   ]
  },
  {
   "cell_type": "markdown",
   "id": "a183b2dd-966b-4045-b414-3ec4e1dcfe6c",
   "metadata": {},
   "source": [
    "# TimeInterval class"
   ]
  },
  {
   "cell_type": "code",
   "execution_count": 3,
   "id": "beneficial-sperm",
   "metadata": {},
   "outputs": [
    {
     "name": "stdout",
     "output_type": "stream",
     "text": [
      "20:00:00\n",
      "False\n",
      "True\n",
      "<TimeInterval>[1 day, 6:00:00, 2 days, 2:00:00]\n"
     ]
    }
   ],
   "source": [
    "a = new_functions.TimeInterval(start = timedelta(hours = 30), end = timedelta(hours = 50))\n",
    "b = new_functions.TimeInterval(start = timedelta(hours = 38), end = timedelta(hours = 47))\n",
    "c = timedelta(hours = 34)\n",
    "print(a.duration)\n",
    "print(b.include(c))\n",
    "print(b.is_included_in(a))\n",
    "print(a)"
   ]
  },
  {
   "cell_type": "markdown",
   "id": "located-manner",
   "metadata": {},
   "source": [
    "# Time measurement"
   ]
  },
  {
   "cell_type": "code",
   "execution_count": 8,
   "id": "accessible-fairy",
   "metadata": {},
   "outputs": [
    {
     "name": "stdout",
     "output_type": "stream",
     "text": [
      "mean: 1.000, var: 0.000, sd: 0.000\n"
     ]
    }
   ],
   "source": [
    "time_list = []\n",
    "\n",
    "### codes\n",
    "\n",
    "time_list.append(1)\n",
    "###\n",
    "\n",
    "t_array = np.array(time_list)\n",
    "print(\"mean: {:.3f}, var: {:.3f}, sd: {:.3f}\".format(np.mean(t_array), np.var(t_array), np.sqrt(np.var(t_array))))"
   ]
  },
  {
   "cell_type": "code",
   "execution_count": null,
   "id": "peaceful-break",
   "metadata": {},
   "outputs": [],
   "source": []
  },
  {
   "cell_type": "markdown",
   "id": "supreme-christian",
   "metadata": {},
   "source": [
    "# Experiments\n",
    "\n",
    "- 部分的なセンサの時系列パターン [1] D. J. Cook, N. C. Krishnan and P. Rashidi, \"Activity Discovery and Activity Recognition: A New Partnership,\" in IEEE Transactions on Cybernetics, vol. 43, no. 3, pp. 820-828,\n",
    "- 単位時間におけるセンサの反応頻度，推定した移動距離，無反応時間間隔 [2] Detection of Abnormal Living Patterns for Elderly Living Alone Using Support Vector Data Description\n",
    "- センサ位置から推定した滞在箇所，滞在継続時間 [3] Anomaly Detection Algorithm Based on Life Pattern Extraction from Accumulated Pyroelectric Sensor Data\n",
    "上記のものや特徴量選択\n",
    "- ベクトル化 [4] Activity2vec, [5] sensor2vec\n",
    "\n",
    "to do\n",
    "- [2] の特徴量を抽出する関数の作成\n",
    "- センサデータからの場所列の推定（行動認識）\n",
    "- [3] を実験できるか試す\n",
    "- 今までのアイデアをまとめる。サンプリング幅の異なる複数異常をオンラインに検出するアルゴリズムを作りたい。サンプリング幅の次元を追加する？\n",
    "- Toy dataset を作って確かめる必要があるかどうか"
   ]
  },
  {
   "cell_type": "code",
   "execution_count": null,
   "id": "368bae9b-94dc-4494-813a-41e618fb2520",
   "metadata": {},
   "outputs": [],
   "source": []
  }
 ],
 "metadata": {
  "kernelspec": {
   "display_name": "Python 3 (ipykernel)",
   "language": "python",
   "name": "python3"
  },
  "language_info": {
   "codemirror_mode": {
    "name": "ipython",
    "version": 3
   },
   "file_extension": ".py",
   "mimetype": "text/x-python",
   "name": "python",
   "nbconvert_exporter": "python",
   "pygments_lexer": "ipython3",
   "version": "3.9.5"
  }
 },
 "nbformat": 4,
 "nbformat_minor": 5
}
