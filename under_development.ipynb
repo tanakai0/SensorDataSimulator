{
 "cells": [
  {
   "cell_type": "markdown",
   "id": "intermediate-discretion",
   "metadata": {},
   "source": [
    "# Memo"
   ]
  },
  {
   "cell_type": "raw",
   "id": "african-feature",
   "metadata": {},
   "source": [
    "memo about SISG4HEIAlpha\n",
    "\n",
    "# make layout -> make activity -> make travel pattern -> PIR or door sensor\n",
    "# in GUI_Layout\n",
    "Fur_list = [['Bed', 'Wardrobe', 'Desk and Chair'], ['Kitchen Stove', 'Cupboard', 'Refrigerator',\n",
    "            'Wash Machine', 'Trash Bin'], ['Sofa and TV', 'Table and Chair']]\n",
    "# in GUI_Semantics\n",
    "Dict_ZF = {'Resting': ['Bed', 'Wardrobe', 'Nightstand', 'Desk and Chair', 'Random'],\n",
    "           'Living': ['Table and Chair', 'Sofa and TV', 'Random'],\n",
    "           'Cooking': ['Kitchen Stove', 'Cupboard', 'Refrigerator', 'Trash Bin', 'Wash Machine', 'Random']}\n",
    "S_r, N, stat, stat_Incre = FP_main.generate_house(N, topo, varss)\n",
    "\n",
    "House, Toil_Bath, Furnitures, Doors, Walls, T_con, B_con, type = FLP.Floor_Plan(topo, furs)\n",
    "\n",
    "FSave.Height_SampleSave(type, self.rooms, self.T_Bs, self.furnitures, root_path+'/DataBase/'+s_path)\n",
    "\n",
    "# in FSave\n",
    "Fur_choice = [['WAR', '000'], ['De', '00'], ['So', '00'], ['DTA', '000'], ['KS', '00'],\n",
    "                  ['CB', '00'], ['RFA', '000'], ['WM', '00'], ['TB', '00']]\n",
    "                  \n",
    "# in Dest_nodes.py\n",
    "Furniture2Activity = {'Bedroom':{'Bed':'Sleep', 'Wardrobe': 'Dress_up', 'Chair':'Work'},\n",
    "                      'Livingroom':{'Sofa':'Watch_TV', 'Chair':'Dining'},\n",
    "                      'Kitchen': {'Kitchen_Stove':'Cooking0', 'Cupboard':'Cooking1',\n",
    "                                    'Refrigerator':'Cooking2', 'Wash_Machine':'Washing',\n",
    "                                    'Trash_Bin':'Cleaning'}}\n",
    "Door2Activity = {'Entrance':'Go_out', 'Toilet_Door':'Go_to_Toilet', 'Bathroom_Door':'Go_to_Bathroom'}\n",
    "\n",
    "self.Actseqs = HAS_main.actseq_gen(self.savelist, self.paras[6], self.paras[0], self.intvar, self.paras[1:4], self.paras[4:6], self.order)\n",
    "\n",
    "HASave.Mark2Txt(Actseqs[i], Savelist[i], stimes[i], etimes[i])\n",
    "\n",
    "# Actseqs: list of activity sequnces, Actseqs[i] = activity sequence of i-th layout, \n",
    "# Actseqs[i][j] = [j-th activity, duration time of j-th activity] in i-th layout,\n",
    "# activity = [ 0 Sleep_Noon, 1 Sleep_Evening, 2 Wash_Self(in Bathroom), 3 Cooking0(in KS), 4 Cooking1(in CB), \n",
    "#              5 Cooking2(in RFA), 6 Eat, 7 Bath, 8 Dress_up, 9 Go_out, \n",
    "#              10 Toilet_Short, 11Toilet_Long, 12 Clean, 13 Work, 14 Watch_TV, \n",
    "#              15 Wash_Clothing(in WM), 16 Wandering, 17 Relax], \n",
    "# (activity sequences = [0 sleep_noon, 1 sleep, 2 eat, 3 bath, 4 go_out, \n",
    "#                        5 toilet(short), 6 toilet(long), 7 clean, 8 work, 9 watch_TV, \n",
    "#                        10 Washing, 11 Wandering, 12 Resting])\n",
    "#  Save those as Num2Act = ['Sleep', 'Sleep', 'Wash and Brush', 'Cook', 'Take TableWare', \n",
    "#                           'Take Food', 'Eat', 'Bath', 'Dress up', 'Go out', \n",
    "#                           'Go to Toilet', 'Go to Toilet', 'Clean', 'Read', 'Watch TV', \n",
    "#                           'Wash Clothes', 'Wander', 'Relax']\n",
    "    \n",
    "Load.load_actseq(h_v, fname0, fname1)\n",
    "# Load.processact(act, fname0) (like {'Sleep': 'Sleep', 'Wash and Brush': 'Go_to_Bathroom', 'Cook': 'Cooking0', 'Bath': 'Go_to_Bathroom',\n",
    "#     'Go out': 'Go_out', 'Go to Toilet': 'Go_to_Toilet', 'Wash Clothes': 'Washing', 'Watch TV': 'Watch_TV'})\n",
    "#     converts ACTS.txt into activity code for travel pattern generation\n",
    "    \n",
    "# Tools_.PIR_position decide the limit of the number of the sensors\n",
    "\n",
    "\n",
    "# \n",
    "│  │  ├─1456,1040,2080,180,738LL\n",
    "│  │  │      ACTS.txt\n",
    "│  │  │      Cleaning_distance.csv\n",
    "│  │  │      Cooking0_distance.csv\n",
    "│  │  │      Cooking1_distance.csv\n",
    "│  │  │      Cooking2_distance.csv\n",
    "│  │  │      Destinations.json\n",
    "│  │  │      Dining_distance.csv\n",
    "│  │  │      Discomfortable_value.csv\n",
    "│  │  │      Dress_up_distance.csv\n",
    "│  │  │      Go_out_distance.csv\n",
    "│  │  │      Go_to_Bathroom_distance.csv\n",
    "│  │  │      Go_to_Toilet_distance.csv\n",
    "│  │  │      Height_Function.json\n",
    "│  │  │      Human_Path,55,right.json\n",
    "│  │  │      Max_Distances.json\n",
    "│  │  │      Semantic.json\n",
    "│  │  │      Sleep_distance.csv\n",
    "│  │  │      Watch_TV_distance.csv\n",
    "│  │  │      Work_distance.csv"
   ]
  },
  {
   "cell_type": "markdown",
   "id": "assumed-setting",
   "metadata": {},
   "source": [
    "# Memo about significant change"
   ]
  },
  {
   "cell_type": "raw",
   "id": "second-myrtle",
   "metadata": {},
   "source": [
    "time : change\n",
    "2021-10-22-08-34 : hidden location_sequence, so input of new_functions.path_generate and new_functions.multi_sensor_records don't need location_sequence. TP[i] add 3rd element 'end time of the path'(= start time of the action that is the goal of i-th path)\n",
    "2021-11-12 : add Sensor class, add home_equipment as intance value of Activity class\n",
    "2022-05-25 : use floor_plan module\n",
    "\n",
    "        Resident's walking trajectories between activities in the layout.\n",
    "        TP[i][0](string)    = i-th path information, \"kind_of_walking,start_place_code,end_place_code,random_seed\"\n",
    "        TP[i][1](list)      = [body coordinates, left step coordinates, right step coordinates] about movement of i-th path\n",
    "        TP[i][2](timedelta) = the end time of the path (= the start time of the activity that is done at the goal of i-th path)\n",
    "        e.g. TP = [('Direct,Bed,Desk,60', [body_c, left_f, right_f], end_time),\n",
    "                   ('Wander,Sofa,Dinner_Table,Bed,Wardrobe,33', [body_c, left_f, right_f], end time),\n",
    "                   ...]\n",
    "        body_c is like [(0.00,0.00), (1.03, 1.21), (2.44, 3.34), ..., (100.23, 43.78)]. left_f and right_f is similar form of body_c.\n",
    "-> WalkingTrajectory\n",
    "\n",
    "main changing points in 2022/07/28\n",
    "activity_sequence : list of tuple -> list of ActivityDataPoint\n",
    "activity_scheduling -> generate_activity_sequence\n",
    "path_generate -> generate_walking_trajectories\n",
    "sensor_info -> sensors : list of Sensor\n",
    "\n",
    "2022/12/01\n",
    "Toil -> WC\n",
    "So -> Sofa\n",
    "Cb -> CB\n",
    "Cha -> C\n",
    "DTa -> DT\n",
    "WaR -> WR\n",
    "NSt -> NS\n",
    "Rfa -> RF\n",
    "TB -> T"
   ]
  },
  {
   "cell_type": "markdown",
   "id": "exotic-creek",
   "metadata": {},
   "source": [
    "## Possible improvements\n",
    "### Memo\n",
    "- [x] （travel pattern の行動中の動きについて、うまく全部繋げられるか？現状次の行動の開始地点と前の行動の終了地点が一致しない） -> しようと思えば、終了地点と開始地点を揃えられるが、行動内で生じた誤差として考えてもいい気がする。\n",
    "- [x] new_functions.update_multi_sensor_log 内の past_x, past_y により赤外線センサが人を動いているかを判定するところで,現状sampling_duration秒前の地点との差分を取っているが，もしもsampling_duration = 10 とすると，10秒前の地点との差分になってしまう->PIRセンサのサンプリングレートが長すぎるとそもそも実用的でないから、妥当な仮定のような気がする。\n",
    "‐ [x] 経路計算のための distance の情報を計算した後に保存する際のsave json.dumps に MyEncoder 形式で保存するように変更した。また、generate_layout_with_necessary_furniture が繰り返しgenerate_layout を実行する際に、前のデータが完全に上書きされているかどうか確認していない（たぶん全部上書きされているため、不都合は起きないはず。）\n",
    "- [x] 転倒には30秒かかるので、walkingが重ならないように、location[i]からlocation[i+1]へのpathで転倒する際には、location[i+1]での行動の行動時間が十分長い物を選ぶようにしている．\n",
    "- [x] 時系列データを (start time of the parameter, value of the parameter) のリストで表現するか、(start time of the parameter, end time of the parameter, value of the parameter)のリストで表現するか。前者は情報量が削減でき，矛盾のチェックが時系列順に並んでいるかどうかだけで済む。後者は最後の期間のパラメータの終了時刻を明示できる（前者ではインデックスがiのパラメータはiの開始時刻からi+1の開始時刻までになるが、リストの最後の要素のパラメータは次の要素がないため、終了時刻がわからない.最後にダミー要素として0の値を持つ期間にすればなんとかなる？）。-> 後者にする．\n",
    "\n",
    "### Priorities\n",
    "- [x] フォルダ構造から再考（SISG4HEIALpha の階層的フォルダ構造いる？名前で(layout1)とか毎回指定してもよくない？）フォルダ名にある情報は全部 Semantic.json に入れる．\n",
    "- [x] テキスト形式の保存に加えて pickle 等を用いて異常ラベルなどを保存する\n",
    "- [x] ログのテキストファイルを入力として，リストのオブジェクトに読み込む方法\n",
    "- [ ] anomaly.forgetting_labels が遅い．頑張れば速くできそう\n",
    "- [ ] Activity クラスの同一性判定を元に戻した？activity_model.Activity クラスは同一性判定を行動名のみにしているため、そこを強調しないと意図しない書き方をしてしまうかも。正直直してもよい．\n",
    "- [ ] 睡眠行動にトイレが断続的に入るパターンなどをモデル化する際には、現状の last_activity や sleep_after_24では対応できない。そのため、次の日の行動列も保存し、次の日の生成時にそれをコピーできるように作り変える必要がある。それか，睡眠にトイレ行動としてのサブ行動を許すか？\n",
    "- [ ] 新しい家具の追加など、レイアウトの修正を後から簡単にできるようにする。\n",
    "- [ ] Activity の所の 'Bed' などの場所名は floorplan とかに定数としておかなくて大丈夫か\n",
    "- [ ] MMSE の幅が 1 month 以外でも使いやすいようにする\n",
    "\n",
    "\n",
    "\n",
    "### Floor plan\n",
    "- [x] フォルダ名に家具や大きさいる？layoutだけ残すか，もしくは全てフラットにするか？その代わり，家具一覧や大きさ一覧は Semantic.json に組み込む.\n",
    "- [ ] 自作クラス Zone, Wall, Furniture の活用\n",
    "- [ ] dis_val のindex と実際のx, y の関係をわかりやすく。（参考、disval を作成する関数、または、Tools_.cal_I_J）\n",
    "- [ ] ワンルームでなくて、壁がある場合はどうするのか？単純にdisval を100に設定するのか？2階など複雑な住居はどうするのか？\n",
    "- [ ] 間取りを修正できるようにする．\n",
    "\n",
    "### Activity schedule\n",
    "- [ ] 行動列の円グラフ「1日の0:00から3日の0:00まで」とかの切りのいい時はうまくいくが、それ以外の微妙な時刻からの開始・終了にも対応する\n",
    "- [ ] activity sequence 生成の行動の開始時刻や継続時間のサンプリングの記述を整頓する。例として、Activity.sampling_duration にはremainder と開始時間を入力に取るようにしたり、基本行動の開始時刻のサンプリングを切断正規分布を用いたり、day_schedule.update_schedule 内に短い行動を防ぐ例外処理をまとめたりする。\n",
    "- [ ] 拡張1. 既に行動 B と C が決まっている場合、行動 A を (1) もしくは (2) のどちらかの条件を満たすように入れる。 (1) A が B と C の間にないといけない。 (2) A が B と C の間にあってはいけない。 拡張2. (1)行動 A が行動 B から T_c [分]よりも離れている。(2) 行動 A が行動 B からT_c [分]以内に作られる。拡張1と拡張2を合わせて考えると、拡張 1_2 : 行動 A が行動 B の前（または後ろ）の M[分]以内に存在する（または存在しない）。を実装できればよい？ただし、拡張1_2の形式にすると、夕食後睡眠前に取る行動Aを実装するには、事前にMを指定できず、既にサンプリングした夕食の終了時刻と睡眠の開始時刻に依存する。\n",
    "- [ ] 拡張した行動をもう少しわかりやすい形で整頓する（MetaActivity をわかりやすくする。）\n",
    "- [ ] activity.dertermine_place() の Notes に書かれているように、行動場所の選択にランダム性を追加する拡張。\n",
    "- [ ] 基本行動間の分布の重なり度合いから，リサンプリングがうまくいきそうかどうかを事前に警告する．FundamentalActivity.sampling_start_time() 内のlower_limitの例外に該当しそうかどうかもこの事前のうちに済ませておく．\n",
    "\n",
    "### Walking trajectory\n",
    "- [x] new_functions.direct_path をきれいにする\n",
    "- [ ] 移動経路の gif 画像\n",
    "- [ ] dijkstra 法の所を高速にできるか？\n",
    "- [ ] 異なるwalking 同士が重なってしまうエラー（A->B->C の移動において，A->B と B->C が重なってしまう現象）の改善方法。案1. 極端に短い行動時間の行動をうまく消す？ 案2. 移動経路を作成する段階で、もしも移動が重なる場合、後ろの行動の開始時刻をずらすことで対応する。修正した行動列も一緒に出力する。\n",
    "\n",
    "### Sensors\n",
    "- [x] PIRと圧力と家電センサのログからそれらを一つにまとめたものを作る関数\n",
    "- [ ] ドアセンサ実装\n",
    "- [ ] 圧力センサが行動終了時に消すか消さないかをセンサデータ生成時に行動の種類によって分ける。例として、睡眠（ベッドに上る）やトイレ，外出（そこにとどまらない）は圧力センサを切る，反対に調理や机の下などはセンサをオンにするなど.\n",
    "- [ ] 現状家電センサは行動時間中にセンサがついているとしているが，次の行動への歩き初めには消したり，行動時間中でもランダムにつけたり消したりするようにする\n",
    "- [ ] センサごとにサンプリングレートが異なる拡張\n",
    "- [ ] 各センサの出力をベルヌーイ分布などで誤差を加える．\n",
    "\n",
    "### Anomalies\n",
    "- [ ] 転倒に関して、転びやすい場所を discomfortable value を用いて実現できるか？\n",
    "- [ ] sensor_model.Sensor とActivity.home_equipment と calculate_sensor_record_of_a_home_equipment あたりの家電センサの記述を連携させられるか\n",
    "- [ ] 現状閉じこもりと準寝たきりが同時に発生した時の外出回数の減少は、準寝たきりによる減少を優先している。同時に（行動の統計量に影響を与える）複数の異常が発生した時の優先順位をどう決めるかをわかりやすくしたい。\n",
    "\n",
    "### Others\n",
    "- [ ] start, end を持つ時間区間に関してのクラスnew_function.TimeInterval を活用するか？duration()やincludes(t)（timedeltaオブジェクトがstart, endの間に入るか）などの関数がある。\n",
    "- [ ] 行動や異常の各パラメータ一覧を出力、保存 (pack)、再利用 (unpack) できる関数\n",
    "- [ ] 全体的にパラメータ名をもう少し短く簡潔にする\n",
    "- [ ] decostring をきれいに書く。"
   ]
  },
  {
   "cell_type": "markdown",
   "id": "tutorial-belize",
   "metadata": {},
   "source": [
    "# Import libralies"
   ]
  },
  {
   "cell_type": "code",
   "execution_count": 1,
   "id": "jewish-police",
   "metadata": {
    "tags": []
   },
   "outputs": [],
   "source": [
    "import itertools\n",
    "import os\n",
    "import pprint\n",
    "import random\n",
    "import time\n",
    "from copy import deepcopy\n",
    "from pathlib import Path\n",
    "from datetime import timedelta\n",
    "import matplotlib.pyplot as plt\n",
    "import numpy as np\n",
    "\n",
    "# self-made\n",
    "import activity_model\n",
    "import analysis\n",
    "import anomaly\n",
    "import comparison\n",
    "import floor_plan\n",
    "\n",
    "import new_functions\n",
    "import sensor_model\n",
    "\n",
    "working_path = Path().resolve()\n",
    "layout_data_path = working_path / 'layout_data'"
   ]
  },
  {
   "cell_type": "markdown",
   "id": "71ec884b-2a3a-4168-a269-4a5342488d27",
   "metadata": {},
   "source": [
    "# Analyze long-term data"
   ]
  },
  {
   "cell_type": "markdown",
   "id": "19b7c3da-8206-41b4-913d-cb812175190d",
   "metadata": {},
   "source": [
    "## data pre-processing"
   ]
  },
  {
   "cell_type": "code",
   "execution_count": 3,
   "id": "b3e2a44a-8b61-4881-a099-7091e591751c",
   "metadata": {
    "tags": []
   },
   "outputs": [
    {
     "name": "stdout",
     "output_type": "stream",
     "text": [
      "[(datetime.timedelta(seconds=14781, microseconds=900000), 22, True), (datetime.timedelta(seconds=14782, microseconds=800000), 22, False), (datetime.timedelta(seconds=14783, microseconds=600000), 2, True)]\n",
      "18.07 MB\n",
      "dict_keys(['MMSE', 'being housebound', 'being semi-bedridden', 'forgetting', 'wandering', 'fall while walking', 'fall while standing'])\n",
      "(279936000, 28)\n",
      "(279936000, 6)\n",
      "[0, 1, 2, 3, 4, 5, 6, 7, 8, 9, 10, 11, 12, 13, 14, 15, 16, 17, 18, 19, 20, 21, 22, 23, 24, 25, 26, 27]\n",
      "['being semi-bedridden', 'being housebound', 'forgetting', 'wandering', 'fall while walking', 'fall while standing']\n",
      "601.41 [s].\n"
     ]
    }
   ],
   "source": [
    "# Load sensor data and anomaly labels\n",
    "    \n",
    "data_folder_name = 'test_data_2'\n",
    "path = Path(layout_data_path / 'test_layout' / data_folder_name)  # data path\n",
    "SD = new_functions.pickle_load(path, 'SD')\n",
    "AL = new_functions.pickle_load(path, 'AL')\n",
    "AL_periods = analysis.make_AL_periods(path)\n",
    "print(SD[:3])\n",
    "print(analysis.memory_size(SD))\n",
    "print(AL.keys())\n",
    "\n",
    "# make data of matrix form\n",
    "\n",
    "temp_time = time.time()\n",
    "start = timedelta(days = 0)\n",
    "end = timedelta(days = 360 * 9)\n",
    "seconds = 1\n",
    "duration = timedelta(seconds = seconds)\n",
    "_type = 'last-fired'\n",
    "(SD_mat, SD_names, AL_mat, AL_names) = analysis.matrix_with_discretized_time_interval(SD,\n",
    "                                        AL_periods, start, end, duration, _type = _type)\n",
    "print(SD_mat.shape)\n",
    "print(AL_mat.shape)\n",
    "print(SD_names)\n",
    "print(AL_names)\n",
    "print(\"{:.2f} [s].\".format(time.time() - temp_time))\n",
    "\n",
    "new_functions.pickle_dump(path / 'experiment1',   'SD_mat' + '_' + _type + '_' + str(seconds), SD_mat)\n",
    "new_functions.pickle_dump(path / 'experiment1',   'AL_mat' + '_' + _type + '_' + str(seconds), AL_mat)"
   ]
  },
  {
   "cell_type": "code",
   "execution_count": 4,
   "id": "b6560421-2e38-4a24-89ba-d9571da3a3e3",
   "metadata": {},
   "outputs": [
    {
     "name": "stdout",
     "output_type": "stream",
     "text": [
      "(20593092, 28) matrices. 279933588 / 279935939.\n",
      "(20593092, 6)\n",
      "[14721, 14722, 14723, 14724, 14725]\n"
     ]
    }
   ],
   "source": [
    "# reduce invalid data which take same value in a fixed-length windows.\n",
    "\n",
    "_type = 'last-fired'\n",
    "data_folder_name = 'test_data_2'\n",
    "path = Path(layout_data_path / 'test_layout' / data_folder_name)\n",
    "SD_mat_name = f'SD_mat_{_type}_1'\n",
    "SD_names_name = f'SD_names'\n",
    "AL_mat_name = f'AL_mat_{_type}_1'\n",
    "AL_names_name = 'AL_names'\n",
    "SD_mat = new_functions.pickle_load(path / 'experiment1', SD_mat_name)\n",
    "SD_names = new_functions.pickle_load(path / 'experiment1', SD_names_name)\n",
    "AL_mat = new_functions.pickle_load(path / 'experiment1', AL_mat_name)\n",
    "AL_names = new_functions.pickle_load(path / 'experiment1', AL_names_name)\n",
    "\n",
    "valid_indexes = set()\n",
    "\n",
    "def is_invalid4raw(data):\n",
    "    return np.all(data == 0)\n",
    "\n",
    "def is_invalid4LF(data):\n",
    "    return np.all(data == data[0])\n",
    "\n",
    "w = 61\n",
    "half_w = int((w-1) / 2)\n",
    "start_index = half_w\n",
    "end_index = int(SD_mat.shape[0] - half_w)\n",
    "total_len = int(SD_mat.shape[0] - w)\n",
    "diff = int(total_len / 100000)\n",
    "for i in range(start_index, end_index):\n",
    "    if i % diff == 0:\n",
    "        new_functions.print_progress_bar(total_len, i, 'Making reduced matrices.')\n",
    "    data = SD_mat[i - half_w: i + half_w + 1]\n",
    "    if _type == 'raw':\n",
    "        if not(is_invalid4raw(data)):\n",
    "            valid_indexes |= set(range(i - half_w, i + half_w + 1))\n",
    "    if _type == 'last-fired':\n",
    "        if not(is_invalid4LF(data)):\n",
    "            valid_indexes |= set(range(i - half_w, i + half_w + 1))\n",
    "    \n",
    "valid_indexes = sorted(list(valid_indexes))\n",
    "reduced_SD_mat = SD_mat[valid_indexes]\n",
    "reduced_AL_mat = AL_mat[valid_indexes]\n",
    "save_name_SD = 'reduced_' + SD_mat_name\n",
    "save_name_AL = f'reduced_AL_mat_{_type}_1'\n",
    "new_functions.pickle_dump(path / 'experiment1', save_name_SD, reduced_SD_mat)\n",
    "new_functions.pickle_dump(path / 'experiment1', save_name_AL, reduced_AL_mat)\n",
    "print(reduced_SD_mat.shape)\n",
    "print(reduced_AL_mat.shape)\n",
    "print(valid_indexes[:5])"
   ]
  },
  {
   "cell_type": "markdown",
   "id": "81014679-ee4d-4867-9537-1881ea70af26",
   "metadata": {},
   "source": [
    "## Sequential labeling"
   ]
  },
  {
   "cell_type": "markdown",
   "id": "c16ae671-b681-4e15-ae68-0098c949f4f8",
   "metadata": {},
   "source": [
    "### Dynamic naive bayes"
   ]
  },
  {
   "cell_type": "code",
   "execution_count": 4,
   "id": "fb67fd2c-2f2e-496a-aa0e-a0844fba9ae0",
   "metadata": {},
   "outputs": [
    {
     "name": "stdout",
     "output_type": "stream",
     "text": [
      "[[20396661        0]\n",
      " [  196431        0]]\n"
     ]
    },
    {
     "name": "stderr",
     "output_type": "stream",
     "text": [
      "C:\\Users\\tanakai\\miniconda3\\lib\\site-packages\\sklearn\\metrics\\_classification.py:1344: UndefinedMetricWarning: Precision and F-score are ill-defined and being set to 0.0 in labels with no predicted samples. Use `zero_division` parameter to control this behavior.\n",
      "  _warn_prf(average, modifier, msg_start, len(result))\n",
      "C:\\Users\\tanakai\\miniconda3\\lib\\site-packages\\sklearn\\metrics\\_classification.py:1344: UndefinedMetricWarning: Precision and F-score are ill-defined and being set to 0.0 in labels with no predicted samples. Use `zero_division` parameter to control this behavior.\n",
      "  _warn_prf(average, modifier, msg_start, len(result))\n"
     ]
    },
    {
     "name": "stdout",
     "output_type": "stream",
     "text": [
      "              precision    recall  f1-score   support\n",
      "\n",
      "       False       0.99      1.00      1.00  20396661\n",
      "        True       0.00      0.00      0.00    196431\n",
      "\n",
      "    accuracy                           0.99  20593092\n",
      "   macro avg       0.50      0.50      0.50  20593092\n",
      "weighted avg       0.98      0.99      0.99  20593092\n",
      "\n"
     ]
    },
    {
     "name": "stderr",
     "output_type": "stream",
     "text": [
      "C:\\Users\\tanakai\\miniconda3\\lib\\site-packages\\sklearn\\metrics\\_classification.py:1344: UndefinedMetricWarning: Precision and F-score are ill-defined and being set to 0.0 in labels with no predicted samples. Use `zero_division` parameter to control this behavior.\n",
      "  _warn_prf(average, modifier, msg_start, len(result))\n"
     ]
    }
   ],
   "source": [
    "from sklearn.metrics import classification_report, confusion_matrix\n",
    "\n",
    "# learn Naive Bayes\n",
    "_type = 'raw'\n",
    "data_folder_name = 'test_data_1'\n",
    "path = layout_data_path / 'test_layout' / data_folder_name\n",
    "training_SD = new_functions.pickle_load(path / 'experiment1', f'reduced_SD_mat_{_type}_1')\n",
    "training_AL = new_functions.pickle_load(path / 'experiment1', f'reduced_AL_mat_{_type}_1')\n",
    "# SD_names = new_functions.pickle_load(path / 'experiment1', 'SD_names')\n",
    "# AL_names = new_functions.pickle_load(path / 'experiment1', 'AL_names')\n",
    "\n",
    "NB = analysis.NaiveBayes()\n",
    "NB.use_log_prob = True\n",
    "NB.fit(training_SD, training_AL[:, 3])\n",
    "\n",
    "# print(NB.predict_states(training_SD[:30]))\n",
    "\n",
    "# test Naive Bayes\n",
    "_type = 'last-fired'\n",
    "data_folder_name = 'test_data_2'\n",
    "path = layout_data_path / 'test_layout' / data_folder_name\n",
    "test_SD = new_functions.pickle_load(path / 'experiment1', f'reduced_SD_mat_{_type}_1')\n",
    "test_AL = new_functions.pickle_load(path / 'experiment1', f'reduced_AL_mat_{_type}_1')\n",
    "# test_SD_names = new_functions.pickle_load(path / f'experiment1', 'SD_names')\n",
    "# test_AL_names = new_functions.pickle_load(path / 'experiment1', 'AL_names')\n",
    "\n",
    "(y_pred, prob) = NB.predict_states(test_SD)\n",
    "y_true = test_AL[:, 3]\n",
    "print(confusion_matrix(y_true, y_pred))\n",
    "print(classification_report(y_true, y_pred))"
   ]
  },
  {
   "cell_type": "markdown",
   "id": "18f452f6-6f60-4b77-b2c0-41c45e2a646e",
   "metadata": {},
   "source": [
    "### Hidden Markov model"
   ]
  },
  {
   "cell_type": "code",
   "execution_count": 2,
   "id": "5153de96-cb58-49fa-bf94-0c679aa3f5ea",
   "metadata": {
    "tags": []
   },
   "outputs": [],
   "source": [
    "# learn HMM\n",
    "_type = 'last-fired'\n",
    "data_folder_name = 'test_data_1'\n",
    "path = layout_data_path / 'test_layout' / data_folder_name\n",
    "reduced_SD_mat = new_functions.pickle_load(path / 'experiment1', f'reduced_SD_mat_{_type}_1')\n",
    "reduced_AL_mat = new_functions.pickle_load(path / 'experiment1', f'reduced_AL_mat_{_type}_1')\n",
    "SD_names = new_functions.pickle_load(path / 'experiment1', 'SD_names')\n",
    "AL_names = new_functions.pickle_load(path / 'experiment1', 'AL_names')\n",
    "\n",
    "num = 10000\n",
    "hmm = analysis.HMM4binary_sensors()\n",
    "hmm.fit_with_true_hidden_states(reduced_SD_mat[-num:], reduced_AL_mat[-num:, 3])"
   ]
  },
  {
   "cell_type": "code",
   "execution_count": 3,
   "id": "33898968-278d-47aa-b15b-7042cd0366c7",
   "metadata": {},
   "outputs": [
    {
     "name": "stdout",
     "output_type": "stream",
     "text": [
      "[1. 0.]\n",
      "[[9.99898353e-01 1.01646676e-04]\n",
      " [6.21118012e-03 9.93788820e-01]]\n",
      "[[7.30765322e-02 1.01636345e-04 5.08181726e-04 2.84581766e-03\n",
      "  4.08578108e-02 7.73452587e-02 9.79774367e-02 1.72781787e-03\n",
      "  1.61601789e-02 6.51488972e-02 3.35399939e-03 1.22979978e-02\n",
      "  2.51041773e-02 5.08181726e-04 2.53074499e-02 1.35176339e-01\n",
      "  3.15072670e-03 1.67699970e-02 5.22410814e-02 1.03872345e-01\n",
      "  1.01636345e-04 2.33763594e-03 1.82945421e-02 3.04909035e-04\n",
      "  0.00000000e+00 8.27319850e-02 5.50868991e-02 8.76105295e-02]\n",
      " [3.10559006e-02 4.34782609e-02 3.10559006e-02 4.34782609e-02\n",
      "  4.96894410e-02 5.59006211e-02 6.21118012e-03 0.00000000e+00\n",
      "  6.21118012e-02 1.11801242e-01 4.96894410e-02 2.48447205e-02\n",
      "  0.00000000e+00 0.00000000e+00 0.00000000e+00 6.21118012e-02\n",
      "  4.96894410e-02 1.24223602e-01 5.59006211e-02 5.59006211e-02\n",
      "  7.45341615e-02 1.86335404e-02 1.24223602e-02 3.72670807e-02\n",
      "  0.00000000e+00 0.00000000e+00 0.00000000e+00 0.00000000e+00]]\n",
      "[[9809    0]\n",
      " [ 191    0]]\n",
      "              precision    recall  f1-score   support\n",
      "\n",
      "       False       0.98      1.00      0.99      9809\n",
      "        True       0.00      0.00      0.00       191\n",
      "\n",
      "    accuracy                           0.98     10000\n",
      "   macro avg       0.49      0.50      0.50     10000\n",
      "weighted avg       0.96      0.98      0.97     10000\n",
      "\n",
      "0.27 [s].\n"
     ]
    },
    {
     "name": "stderr",
     "output_type": "stream",
     "text": [
      "C:\\Users\\tanakai\\miniconda3\\lib\\site-packages\\sklearn\\metrics\\_classification.py:1344: UndefinedMetricWarning: Precision and F-score are ill-defined and being set to 0.0 in labels with no predicted samples. Use `zero_division` parameter to control this behavior.\n",
      "  _warn_prf(average, modifier, msg_start, len(result))\n",
      "C:\\Users\\tanakai\\miniconda3\\lib\\site-packages\\sklearn\\metrics\\_classification.py:1344: UndefinedMetricWarning: Precision and F-score are ill-defined and being set to 0.0 in labels with no predicted samples. Use `zero_division` parameter to control this behavior.\n",
      "  _warn_prf(average, modifier, msg_start, len(result))\n",
      "C:\\Users\\tanakai\\miniconda3\\lib\\site-packages\\sklearn\\metrics\\_classification.py:1344: UndefinedMetricWarning: Precision and F-score are ill-defined and being set to 0.0 in labels with no predicted samples. Use `zero_division` parameter to control this behavior.\n",
      "  _warn_prf(average, modifier, msg_start, len(result))\n"
     ]
    }
   ],
   "source": [
    "# test HMM\n",
    "from sklearn.metrics import classification_report, confusion_matrix\n",
    "\n",
    "_type = 'last-fired'\n",
    "data_folder_name = 'test_data_2'\n",
    "path = layout_data_path / 'test_layout' / data_folder_name\n",
    "test_SD = new_functions.pickle_load(path / 'experiment1', f'reduced_SD_mat_{_type}_1')\n",
    "test_AL = new_functions.pickle_load(path / 'experiment1', f'reduced_AL_mat_{_type}_1')\n",
    "test_SD_names = new_functions.pickle_load(path / f'experiment1', 'SD_names')\n",
    "test_AL_names = new_functions.pickle_load(path / 'experiment1', 'AL_names')\n",
    "\n",
    "temp_time = time.time()\n",
    "\n",
    "(state, prob) = hmm.predict_states(test_SD[-num:])\n",
    "\n",
    "print(hmm.C)\n",
    "print(hmm.A)\n",
    "print(hmm.P)\n",
    "\n",
    "y_true = test_AL[-num:, 3]\n",
    "y_pred = state\n",
    "print(confusion_matrix(y_true, y_pred))\n",
    "print(classification_report(y_true, y_pred))\n",
    "print(\"{:.2f} [s].\".format(time.time() - temp_time))"
   ]
  },
  {
   "cell_type": "code",
   "execution_count": null,
   "id": "03050fa3-7bc3-4ca2-9536-3d1e860412a2",
   "metadata": {},
   "outputs": [],
   "source": [
    "# CRF:  https://github.com/severinsimmler/chaine"
   ]
  },
  {
   "cell_type": "code",
   "execution_count": 2,
   "id": "7abd8fe6-4da5-401b-a526-b4e4e6fab361",
   "metadata": {},
   "outputs": [
    {
     "name": "stdout",
     "output_type": "stream",
     "text": [
      "[28 28 28 28 28 28 28 28 28 28 28 28 28 28 28 28 28 28 28 28 28 28 28 28\n",
      " 28 28 28 28 28 28 28 28 28 28 28 28 28 28 28 28 28 28 28 28 28 28 28 28\n",
      " 28 28 28 28 28 28 28 28 28 28 28 28 23 22  2  3  2  3  4  4  5  9  9  9\n",
      "  9  9  9  9  9  9  9  9  9  9  9  9  9  9  9  9  9  9  9  9  9  9  9  9\n",
      "  9  9  9  9]\n"
     ]
    }
   ],
   "source": [
    "# learn HMM\n",
    "_type = 'last-fired'\n",
    "data_folder_name = 'test_data_1'\n",
    "path = layout_data_path / 'test_layout' / data_folder_name\n",
    "reduced_SD_mat = new_functions.pickle_load(path / 'experiment1', f'reduced_SD_mat_{_type}_1')\n",
    "reduced_AL_mat = new_functions.pickle_load(path / 'experiment1', f'reduced_AL_mat_{_type}_1')\n",
    "SD_names = new_functions.pickle_load(path / 'experiment1', 'SD_names')\n",
    "AL_names = new_functions.pickle_load(path / 'experiment1', 'AL_names')\n",
    "LF_vec = analysis.LF_mat2vec(reduced_SD_mat)\n",
    "print(LF_vec[:100])\n",
    "\n",
    "hmm = analysis.HMM4categorical()\n",
    "hmm.fit_with_true_hidden_states(LF_vec, reduced_AL_mat[:, 3])"
   ]
  },
  {
   "cell_type": "code",
   "execution_count": 7,
   "id": "78f94b3f-3fd6-4692-ad96-b926d07a40e2",
   "metadata": {},
   "outputs": [
    {
     "name": "stdout",
     "output_type": "stream",
     "text": [
      "[1. 0.]on prediction in HMM. 20500000 / 20593092.\n",
      "[[9.99956387e-01 4.36132809e-05]\n",
      " [7.69436928e-03 9.92305631e-01]]\n",
      "[[5.53037447e-02 2.28994216e-04 1.44570669e-03 5.21918637e-03\n",
      "  5.99332697e-02 8.63135210e-02 1.13521885e-01 1.16285252e-02\n",
      "  3.83640042e-03 4.47789294e-02 3.18479843e-03 2.84414932e-02\n",
      "  2.54880412e-02 9.79191615e-04 2.08043180e-02 9.51621652e-02\n",
      "  2.29533256e-03 3.75089879e-02 7.77680625e-02 7.78598954e-02\n",
      "  2.58396426e-04 2.00959208e-03 2.28069026e-02 1.01342069e-02\n",
      "  4.58576475e-04 5.06608416e-02 8.03191453e-02 8.16469491e-02\n",
      "  2.94022104e-06]\n",
      " [2.11033207e-02 1.91667603e-02 5.25897172e-02 5.95838124e-02\n",
      "  8.43441199e-02 7.65805877e-02 3.96216791e-02 1.52590582e-02\n",
      "  5.92552888e-02 9.24534664e-02 4.32700205e-02 2.28410378e-02\n",
      "  7.40907244e-03 5.52438423e-03 5.67135533e-03 3.73047230e-02\n",
      "  2.66709317e-02 1.01444639e-01 8.13614711e-02 4.40221667e-02\n",
      "  4.08233840e-02 2.03079477e-02 2.38784808e-02 1.94952840e-02\n",
      "  0.00000000e+00 0.00000000e+00 8.64535874e-06 8.64535874e-06\n",
      "  0.00000000e+00]]\n",
      "[[20396661        0]\n",
      " [  196431        0]]\n"
     ]
    },
    {
     "name": "stderr",
     "output_type": "stream",
     "text": [
      "C:\\Users\\tanakai\\miniconda3\\lib\\site-packages\\sklearn\\metrics\\_classification.py:1344: UndefinedMetricWarning: Precision and F-score are ill-defined and being set to 0.0 in labels with no predicted samples. Use `zero_division` parameter to control this behavior.\n",
      "  _warn_prf(average, modifier, msg_start, len(result))\n",
      "C:\\Users\\tanakai\\miniconda3\\lib\\site-packages\\sklearn\\metrics\\_classification.py:1344: UndefinedMetricWarning: Precision and F-score are ill-defined and being set to 0.0 in labels with no predicted samples. Use `zero_division` parameter to control this behavior.\n",
      "  _warn_prf(average, modifier, msg_start, len(result))\n"
     ]
    },
    {
     "name": "stdout",
     "output_type": "stream",
     "text": [
      "              precision    recall  f1-score   support\n",
      "\n",
      "       False       0.99      1.00      1.00  20396661\n",
      "        True       0.00      0.00      0.00    196431\n",
      "\n",
      "    accuracy                           0.99  20593092\n",
      "   macro avg       0.50      0.50      0.50  20593092\n",
      "weighted avg       0.98      0.99      0.99  20593092\n",
      "\n",
      "332.22 [s].\n"
     ]
    },
    {
     "name": "stderr",
     "output_type": "stream",
     "text": [
      "C:\\Users\\tanakai\\miniconda3\\lib\\site-packages\\sklearn\\metrics\\_classification.py:1344: UndefinedMetricWarning: Precision and F-score are ill-defined and being set to 0.0 in labels with no predicted samples. Use `zero_division` parameter to control this behavior.\n",
      "  _warn_prf(average, modifier, msg_start, len(result))\n"
     ]
    }
   ],
   "source": [
    "# test HMM\n",
    "from sklearn.metrics import classification_report, confusion_matrix\n",
    "\n",
    "_type = 'last-fired'\n",
    "data_folder_name = 'test_data_2'\n",
    "path = layout_data_path / 'test_layout' / data_folder_name\n",
    "test_SD = new_functions.pickle_load(path / 'experiment1', f'reduced_SD_mat_{_type}_1')\n",
    "test_AL = new_functions.pickle_load(path / 'experiment1', f'reduced_AL_mat_{_type}_1')\n",
    "test_SD_names = new_functions.pickle_load(path / f'experiment1', 'SD_names')\n",
    "test_AL_names = new_functions.pickle_load(path / 'experiment1', 'AL_names')\n",
    "test_LF_vec = analysis.LF_mat2vec(test_SD)\n",
    "temp_time = time.time()\n",
    "\n",
    "(state, prob) = hmm.predict_states(test_LF_vec)\n",
    "\n",
    "print(hmm.C)\n",
    "print(hmm.A)\n",
    "print(hmm.P)\n",
    "\n",
    "y_true = test_AL[:, 3]\n",
    "y_pred = state\n",
    "print(confusion_matrix(y_true, y_pred))\n",
    "print(classification_report(y_true, y_pred))\n",
    "print(\"{:.2f} [s].\".format(time.time() - temp_time))"
   ]
  },
  {
   "cell_type": "code",
   "execution_count": 23,
   "id": "20f06246-234d-4198-921b-28720449ab55",
   "metadata": {},
   "outputs": [],
   "source": []
  },
  {
   "cell_type": "code",
   "execution_count": 13,
   "id": "5e89da9d-785b-4c70-b497-1fac62a1ad83",
   "metadata": {
    "tags": []
   },
   "outputs": [],
   "source": [
    "# Training of HMM likelihood classifier\n",
    "from hmmlearn import hmm\n",
    "\n",
    "_type = 'last-fired'\n",
    "data_folder_name = 'test_data_1'\n",
    "path = layout_data_path / 'test_layout' / data_folder_name\n",
    "SD_mat = new_functions.pickle_load(path / 'experiment1', f'reduced_SD_mat_{_type}_1')\n",
    "AL_mat = new_functions.pickle_load(path / 'experiment1', f'reduced_AL_mat_{_type}_1')\n",
    "SD_names = new_functions.pickle_load(path / f'experiment1', 'SD_names')\n",
    "AL_names = new_functions.pickle_load(path / 'experiment1', 'AL_names')\n",
    "LF_vec = analysis.LF_mat2vec(SD_mat)\n",
    "HMM = analysis.HMM_likelihood_classifier()\n",
    "n_components = 18\n",
    "HMM.fit(n_components, SD_mat, AL_mat[:, 3])"
   ]
  },
  {
   "cell_type": "code",
   "execution_count": 14,
   "id": "c942bb83-6d62-490a-bfac-4f38839dc0f0",
   "metadata": {
    "tags": []
   },
   "outputs": [
    {
     "name": "stdout",
     "output_type": "stream",
     "text": [
      "0.7923527239699332g. 20500000 / 20593032.\n",
      "[[16133169  4263432]\n",
      " [   12655   183776]]\n",
      "              precision    recall  f1-score   support\n",
      "\n",
      "       False       1.00      0.79      0.88  20396601\n",
      "        True       0.04      0.94      0.08    196431\n",
      "\n",
      "    accuracy                           0.79  20593032\n",
      "   macro avg       0.52      0.86      0.48  20593032\n",
      "weighted avg       0.99      0.79      0.88  20593032\n",
      "\n"
     ]
    }
   ],
   "source": [
    "# Test of HMM likelihood classifier\n",
    "from sklearn.metrics import classification_report, confusion_matrix, accuracy_score\n",
    "\n",
    "_type = 'last-fired'\n",
    "data_folder_name = 'test_data_2'\n",
    "path = layout_data_path / 'test_layout' / data_folder_name\n",
    "test_SD_mat = new_functions.pickle_load(path / 'experiment1', f'reduced_SD_mat_{_type}_1')\n",
    "test_AL_mat = new_functions.pickle_load(path / 'experiment1', f'reduced_AL_mat_{_type}_1')\n",
    "SD_names = new_functions.pickle_load(path / f'experiment1', 'SD_names')\n",
    "test_AL_names = new_functions.pickle_load(path / 'experiment1', 'AL_names')\n",
    "w = 61\n",
    "half_w = int((w-1) / 2)\n",
    "y_pred = HMM.sequential_labeling(test_SD_mat, w)\n",
    "y_true = test_AL_mat[half_w: int(test_SD_mat.shape[0] - half_w), 3]\n",
    "print(accuracy_score(y_true, y_pred))\n",
    "print(confusion_matrix(y_true, y_pred))\n",
    "print(classification_report(y_true, y_pred))"
   ]
  },
  {
   "cell_type": "code",
   "execution_count": null,
   "id": "043d7bc4-b5cb-4980-b075-4975d57bfc7c",
   "metadata": {},
   "outputs": [],
   "source": []
  },
  {
   "cell_type": "code",
   "execution_count": 44,
   "id": "261cf9cd-cd85-4219-b424-d4291c78df66",
   "metadata": {},
   "outputs": [
    {
     "name": "stdout",
     "output_type": "stream",
     "text": [
      "[False, True, True, False, True, False, False, False, True, False, True, True, False, True, False, False, True, True, False, False, True, True, False, True, False, False, False, False]\n"
     ]
    }
   ],
   "source": [
    "one_sensor_activated = []\n",
    "for i in range(28):\n",
    "    data = np.array([i for _ in range(61)]).reshape((61, 1))\n",
    "    one_sensor_activated.append(HMM.anomaly_model.score(data) > HMM.normal_model.score(data))\n",
    "print(one_sensor_activated)"
   ]
  },
  {
   "cell_type": "code",
   "execution_count": 3,
   "id": "a298c17c-7969-44be-98a6-d33d1eab0492",
   "metadata": {
    "tags": []
   },
   "outputs": [
    {
     "name": "stdout",
     "output_type": "stream",
     "text": [
      "Single one-dimensional time-series data\n",
      "0.18904007841994036\n",
      "[0 0 0 0 0 0 0 0 0 0]\n",
      "\n",
      "Single multi-dimensional time-series data\n",
      "\n",
      "Multiple one-dimensional time-series data\n",
      "0.5544686707439423\n",
      "[0 1 0 1 0 1 0 1 0 1 0 1 0 1 0 1 0 1 0 1]\n",
      "\n",
      "Multiple multi-dimensional time-series data\n",
      "6.937229228472007e-06\n",
      "[1 1]\n"
     ]
    },
    {
     "name": "stderr",
     "output_type": "stream",
     "text": [
      "C:\\Users\\tanakai\\miniconda3\\lib\\site-packages\\sklearn\\cluster\\_kmeans.py:1382: UserWarning: KMeans is known to have a memory leak on Windows with MKL, when there are less chunks than available threads. You can avoid it by setting the environment variable OMP_NUM_THREADS=1.\n",
      "  warnings.warn(\n"
     ]
    }
   ],
   "source": [
    "# Hidden Markov model\n",
    "# tutorial of hmmlearn: https://hmmlearn.readthedocs.io/en/latest/tutorial.html\n",
    "# hmmlearn for multi-output sequences: https://github.com/hmmlearn/hmmlearn/issues/128\n",
    "# multi-dimensional output: https://stackoverflow.com/questions/17487356/hidden-markov-model-for-multiple-observed-variables\n",
    "import numpy as np\n",
    "from hmmlearn import hmm\n",
    "\n",
    "# Single one-dimensional time-series data\n",
    "print('Single one-dimensional time-series data')\n",
    "X_train = np.random.randint(0, 1, size = (100, 1))\n",
    "X_test = np.random.randint(0, 1, size = (10, 1))\n",
    "model = hmm.CategoricalHMM(n_components = 2).fit(X_train)\n",
    "logprob, state_sequence = model.decode(X_test)\n",
    "print(np.exp(logprob))\n",
    "print(state_sequence)\n",
    "\n",
    "# Single multi-dimensional time-series data  ->  Dynamic naive bayes classifier\n",
    "print('\\nSingle multi-dimensional time-series data')\n",
    "X_train = np.random.randint(0, 1, size = (100, 2))\n",
    "X_test = np.random.randint(0, 1, size = (10, 2))\n",
    "\n",
    "# Multiple one-dimensional time-series data\n",
    "print('\\nMultiple one-dimensional time-series data')\n",
    "X_train_1 = np.random.randint(0, 1, size = (100, 1)).reshape((100, 1))\n",
    "X_train_2 = np.random.randint(0, 1, size = (200, 1)).reshape((200, 1))\n",
    "X_train = np.concatenate([X_train_1, X_train_2])\n",
    "lengths = np.array([len(X_train_1), len(X_train_2)])\n",
    "X_test = np.random.randint(0, 1, size = (20, 1))\n",
    "model = hmm.CategoricalHMM(n_components = 2).fit(X_train, lengths)\n",
    "logprob, state_sequence = model.decode(X_test)\n",
    "print(np.exp(logprob))\n",
    "print(state_sequence)\n",
    "\n",
    "# Multiple multi-dimensional time-series data\n",
    "print('\\nMultiple multi-dimensional time-series data')\n",
    "X_train_1 = np.random.random((10, 3))\n",
    "X_train_2 = np.random.random((5, 3))\n",
    "X_train = np.concatenate([X_train_1, X_train_2])\n",
    "lengths = np.array([len(X_train_1), len(X_train_2)])\n",
    "model = hmm.GaussianHMM(n_components=2).fit(X_train, lengths)  # multidimensional gaussian\n",
    "\n",
    "X_test = np.array([[0, 1, 0], [1, 0, 0]])\n",
    "logprob, state_sequence = model.decode(X_test)\n",
    "print(np.exp(logprob))\n",
    "print(state_sequence)"
   ]
  },
  {
   "cell_type": "code",
   "execution_count": null,
   "id": "216338d2-6460-4d5c-9770-32b18e71254b",
   "metadata": {},
   "outputs": [],
   "source": []
  },
  {
   "cell_type": "code",
   "execution_count": null,
   "id": "4018778d-6a53-4b1a-bc1f-983d8f406ec8",
   "metadata": {},
   "outputs": [],
   "source": []
  },
  {
   "cell_type": "code",
   "execution_count": null,
   "id": "6140db81-ffa2-47de-8482-0d3ae53fc343",
   "metadata": {},
   "outputs": [],
   "source": []
  },
  {
   "cell_type": "code",
   "execution_count": null,
   "id": "3ea95de4-0f96-4d19-8864-476b82f7bd1a",
   "metadata": {
    "tags": []
   },
   "outputs": [],
   "source": []
  },
  {
   "cell_type": "code",
   "execution_count": null,
   "id": "2ca9a9da-f7bd-4b40-adaa-1c8f86f15e04",
   "metadata": {},
   "outputs": [],
   "source": []
  },
  {
   "cell_type": "code",
   "execution_count": 4,
   "id": "bf19ffb7-ce4c-4619-a6df-2c870537fe1a",
   "metadata": {},
   "outputs": [
    {
     "name": "stdout",
     "output_type": "stream",
     "text": [
      "(28, 100)\n",
      "125\n",
      "[[False False False ... False False False]\n",
      " [False False False ... False False False]\n",
      " [False False False ... False False False]\n",
      " ...\n",
      " [False False False ... False False False]\n",
      " [False False False ... False False False]\n",
      " [False False False ...  True  True  True]]\n",
      "[False  True False  True False False]\n"
     ]
    }
   ],
   "source": [
    "path = Path(layout_data_path / 'test_layout' / 'test_data_1')  # data path\n",
    "\n",
    "indexes = list(range(28))\n",
    "\n",
    "time = timedelta(seconds = 41904)\n",
    "duration = timedelta(seconds = 10)\n",
    "rate = timedelta(seconds = 0.1)\n",
    "mat = analysis.window_matrix(SD, time, duration, rate, indexes)\n",
    "\n",
    "print(mat.shape)\n",
    "print(np.sum(mat))\n",
    "print(mat)\n",
    "\n",
    "a = analysis.label_vector(AL_periods, timedelta(days = 77, seconds = 29020))\n",
    "print(a)\n",
    "\n",
    "analysis.matrix2image(path, 'window_matrix', mat)"
   ]
  },
  {
   "cell_type": "code",
   "execution_count": null,
   "id": "0669bf43-c22d-4666-ad7a-c0dfe59e4702",
   "metadata": {},
   "outputs": [],
   "source": []
  },
  {
   "cell_type": "code",
   "execution_count": 4,
   "id": "29b65def-5f59-44f5-9bd4-0ef57d52b4b4",
   "metadata": {},
   "outputs": [
    {
     "name": "stdout",
     "output_type": "stream",
     "text": [
      "0:01:12\n"
     ]
    }
   ],
   "source": [
    "# matrix before a wandering\n",
    "wandering_index = 50\n",
    "test_wandering = AL_periods[anomaly.WANDERING][wandering_index]\n",
    "print(test_wandering[1] - test_wandering[0])\n",
    "indexes = list(range(28))\n",
    "duration = timedelta(seconds = 60)\n",
    "rate = timedelta(seconds = 0.1)\n",
    "sum_mat = analysis.window_matrix(SD, test_wandering[0], duration, rate, indexes)\n",
    "sum_mat = np.zeros((sum_mat.shape[0], sum_mat.shape[1]))\n",
    "count = 0\n",
    "for t in new_functions.date_generator(test_wandering[0], test_wandering[1], timedelta(seconds = 1)):\n",
    "    sum_mat += analysis.window_matrix(SD, t, duration, rate, indexes)\n",
    "    count += 1\n",
    "analysis.matrix2image(path, \"before_wandering{}\".format(wandering_index), sum_mat / count)"
   ]
  },
  {
   "cell_type": "code",
   "execution_count": null,
   "id": "16aba34e-289b-4560-a867-c7cf0e338248",
   "metadata": {},
   "outputs": [],
   "source": [
    "# matrix before a wandering\n",
    "wandering_index = 0\n",
    "test_wandering = AL_periods[anomaly.WANDERING][wandering_index]\n",
    "print(test_wandering[1] - test_wandering[0])\n",
    "indexes = list(range(28))\n",
    "duration = timedelta(seconds = 60)\n",
    "rate = timedelta(seconds = 0.1)\n",
    "sum_mat = analysis.window_matrix(SD, test_wandering[0], duration, rate, indexes)\n",
    "sum_mat = np.zeros((sum_mat.shape[0], sum_mat.shape[1]))\n",
    "count = 0\n",
    "for t in new_functions.date_generator(test_wandering[0], test_wandering[1], timedelta(seconds = 1)):\n",
    "    sum_mat += analysis.window_matrix(SD, t, duration, rate, indexes)\n",
    "    count += 1\n",
    "analysis.matrix2image(path, \"before_wandering{}\".format(wandering_index), sum_mat / count)"
   ]
  },
  {
   "cell_type": "code",
   "execution_count": 12,
   "id": "a5f5ec71-5cad-4513-8999-ead239913f72",
   "metadata": {},
   "outputs": [
    {
     "name": "stdout",
     "output_type": "stream",
     "text": [
      "Calculate the co-occurrence matrix of labels. 3239 days, 2:59:00 / 3240 days, 0:00:00..\r"
     ]
    }
   ],
   "source": [
    "# label correlation\n",
    "start_time = timedelta(days = 0)\n",
    "end_time = timedelta(days = 9 * 360)\n",
    "count = 0\n",
    "sum_mat = np.zeros((6, 6))\n",
    "progress_bar_step = timedelta(days = 1)\n",
    "temp_time = start_time\n",
    "for t in new_functions.date_generator(start_time, end_time, timedelta(seconds = 30)):\n",
    "    if t - temp_time > progress_bar_step:\n",
    "        temp_time = t\n",
    "        new_functions.print_progress_bar(end_time, t, 'Calculate the co-occurrence matrix of labels.')\n",
    "    count += 1\n",
    "    vec = analysis.label_vector(AL_periods, t)\n",
    "    vec = vec.reshape((len(vec), 1))\n",
    "    sum_mat += vec@(vec.T)\n",
    "analysis.matrix2image(path, \"label_cooccurrence\", sum_mat / count)"
   ]
  },
  {
   "cell_type": "markdown",
   "id": "ef9995e4-4255-4443-934f-b030528cf4f8",
   "metadata": {},
   "source": [
    "# Load activity data and sensor data from text file"
   ]
  },
  {
   "cell_type": "code",
   "execution_count": 3,
   "id": "dietary-mineral",
   "metadata": {
    "tags": []
   },
   "outputs": [
    {
     "name": "stdout",
     "output_type": "stream",
     "text": [
      "[(datetime.timedelta(days=3239), 'Sleep\\n'), (datetime.timedelta(days=3239, seconds=15882, microseconds=987281), 'Rest\\n'), (datetime.timedelta(days=3239, seconds=16326, microseconds=184109), 'Urination\\n')]\n",
      "[(datetime.timedelta(days=3239, seconds=15878, microseconds=200000), 22, True), (datetime.timedelta(days=3239, seconds=15879), 22, False), (datetime.timedelta(days=3239, seconds=15879, microseconds=300000), 2, True)]\n"
     ]
    }
   ],
   "source": [
    "AS = analysis.load_activity_sequence(data_save_path / 'AS.txt')\n",
    "SD = analysis.load_sensor_data(data_save_path / 'SD.txt')\n",
    "print(AS[:3])\n",
    "print(SD[:3])"
   ]
  },
  {
   "cell_type": "markdown",
   "id": "a183b2dd-966b-4045-b414-3ec4e1dcfe6c",
   "metadata": {},
   "source": [
    "# TimeInterval class"
   ]
  },
  {
   "cell_type": "code",
   "execution_count": 3,
   "id": "beneficial-sperm",
   "metadata": {},
   "outputs": [
    {
     "name": "stdout",
     "output_type": "stream",
     "text": [
      "20:00:00\n",
      "False\n",
      "True\n",
      "<TimeInterval>[1 day, 6:00:00, 2 days, 2:00:00]\n"
     ]
    }
   ],
   "source": [
    "a = new_functions.TimeInterval(start = timedelta(hours = 30), end = timedelta(hours = 50))\n",
    "b = new_functions.TimeInterval(start = timedelta(hours = 38), end = timedelta(hours = 47))\n",
    "c = timedelta(hours = 34)\n",
    "print(a.duration)\n",
    "print(b.include(c))\n",
    "print(b.is_included_in(a))\n",
    "print(a)"
   ]
  },
  {
   "cell_type": "markdown",
   "id": "located-manner",
   "metadata": {},
   "source": [
    "# Time measurement"
   ]
  },
  {
   "cell_type": "code",
   "execution_count": 8,
   "id": "accessible-fairy",
   "metadata": {},
   "outputs": [
    {
     "name": "stdout",
     "output_type": "stream",
     "text": [
      "mean: 1.000, var: 0.000, sd: 0.000\n"
     ]
    }
   ],
   "source": [
    "time_list = []\n",
    "\n",
    "### codes\n",
    "\n",
    "time_list.append(1)\n",
    "###\n",
    "\n",
    "t_array = np.array(time_list)\n",
    "print(\"mean: {:.3f}, var: {:.3f}, sd: {:.3f}\".format(np.mean(t_array), np.var(t_array), np.sqrt(np.var(t_array))))"
   ]
  },
  {
   "cell_type": "code",
   "execution_count": null,
   "id": "peaceful-break",
   "metadata": {},
   "outputs": [],
   "source": []
  },
  {
   "cell_type": "markdown",
   "id": "supreme-christian",
   "metadata": {},
   "source": [
    "# Experiments\n",
    "\n",
    "- 部分的なセンサの時系列パターン [1] D. J. Cook, N. C. Krishnan and P. Rashidi, \"Activity Discovery and Activity Recognition: A New Partnership,\" in IEEE Transactions on Cybernetics, vol. 43, no. 3, pp. 820-828,\n",
    "- 単位時間におけるセンサの反応頻度，推定した移動距離，無反応時間間隔 [2] Detection of Abnormal Living Patterns for Elderly Living Alone Using Support Vector Data Description\n",
    "- センサ位置から推定した滞在箇所，滞在継続時間 [3] Anomaly Detection Algorithm Based on Life Pattern Extraction from Accumulated Pyroelectric Sensor Data\n",
    "上記のものや特徴量選択\n",
    "- ベクトル化 [4] Activity2vec, [5] sensor2vec\n",
    "\n",
    "to do\n",
    "- [2] の特徴量を抽出する関数の作成\n",
    "- センサデータからの場所列の推定（行動認識）\n",
    "- [3] を実験できるか試す\n",
    "- 今までのアイデアをまとめる。サンプリング幅の異なる複数異常をオンラインに検出するアルゴリズムを作りたい。サンプリング幅の次元を追加する？\n",
    "- Toy dataset を作って確かめる必要があるかどうか"
   ]
  },
  {
   "cell_type": "code",
   "execution_count": null,
   "id": "368bae9b-94dc-4494-813a-41e618fb2520",
   "metadata": {},
   "outputs": [],
   "source": []
  }
 ],
 "metadata": {
  "kernelspec": {
   "display_name": "Python 3 (ipykernel)",
   "language": "python",
   "name": "python3"
  },
  "language_info": {
   "codemirror_mode": {
    "name": "ipython",
    "version": 3
   },
   "file_extension": ".py",
   "mimetype": "text/x-python",
   "name": "python",
   "nbconvert_exporter": "python",
   "pygments_lexer": "ipython3",
   "version": "3.9.5"
  }
 },
 "nbformat": 4,
 "nbformat_minor": 5
}
