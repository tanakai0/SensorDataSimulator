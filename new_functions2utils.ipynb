{
 "cells": [
  {
   "cell_type": "code",
   "execution_count": 8,
   "metadata": {},
   "outputs": [],
   "source": [
    "import sys\n",
    "from pathlib import Path\n",
    "\n",
    "# 一旦 new_fucntions で load してから utils のオブジェクトに変えて dump\n",
    "# src/new_functions.py が必要\n",
    "sys.path.append('./src')\n",
    "\n",
    "import utils\n",
    "layout_path = Path('./layout_data/test_layout')\n",
    "data_path = layout_path / Path('test_data_2')\n",
    "\n",
    "AS = utils.pickle_load(data_path, 'AS')\n",
    "WT = utils.pickle_load(data_path, 'WT')\n",
    "SD = utils.pickle_load(data_path, 'SD')\n",
    "WT_model = utils.pickle_load(data_path, 'WT_model')\n",
    "SD_model = utils.pickle_load(data_path, 'SD_model')\n",
    "\n",
    "new_AS = []\n",
    "for a in AS:\n",
    "    new_AS.append(utils.ActivityDataPoint(a.activity, a.start, a.end, a.place))\n",
    "utils.pickle_dump(data_path, 'AS', new_AS)\n",
    "\n",
    "new_WT = []\n",
    "for w in WT:\n",
    "    new_WT.append(utils.WalkingTrajectory(w.walking_type, w.start_place, w.end_place, w.start_time, w.end_time, w.centers,\n",
    "    w.angles, w.timestamp, w.left_steps, w.right_steps,\n",
    "                 w.intermediate_places,\n",
    "                 w.fall_w, w.fall_s, w.fall_w_index, w.fall_s_index,\n",
    "                 w.lie_down_seconds_w, w.lie_down_seconds_s, w.fall_w_body_range, w.fall_s_body_range))\n",
    "utils.pickle_dump(data_path, 'WT', new_WT)"
   ]
  },
  {
   "cell_type": "code",
   "execution_count": null,
   "metadata": {},
   "outputs": [],
   "source": []
  }
 ],
 "metadata": {
  "kernelspec": {
   "display_name": "venv",
   "language": "python",
   "name": "python3"
  },
  "language_info": {
   "codemirror_mode": {
    "name": "ipython",
    "version": 3
   },
   "file_extension": ".py",
   "mimetype": "text/x-python",
   "name": "python",
   "nbconvert_exporter": "python",
   "pygments_lexer": "ipython3",
   "version": "3.11.4"
  },
  "orig_nbformat": 4
 },
 "nbformat": 4,
 "nbformat_minor": 2
}
