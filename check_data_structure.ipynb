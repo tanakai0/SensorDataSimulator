{
 "cells": [
  {
   "cell_type": "markdown",
   "metadata": {},
   "source": [
    "# Check data structure"
   ]
  },
  {
   "cell_type": "code",
   "execution_count": 3,
   "metadata": {},
   "outputs": [
    {
     "name": "stdout",
     "output_type": "stream",
     "text": [
      "WT[0].centers : [(-47.5, -22.5), (2.5, -7.5), (52.5, 12.5), (102.5, 32.5), (152.5, 52.5), (207.5, 57.5), (262.5, 57.5), (317.5, 57.5), (372.5, 57.5), (427.5, 57.5), (482.5, 47.5), (527.5, 17.5), (572.5, 12.5)]\n",
      "len(WT[0].centers) : 13\n",
      "WT[0].timestamp : [datetime.timedelta(seconds=20843, microseconds=626077), datetime.timedelta(seconds=20844, microseconds=426077), datetime.timedelta(seconds=20845, microseconds=226077), datetime.timedelta(seconds=20846, microseconds=26077), datetime.timedelta(seconds=20846, microseconds=826077), datetime.timedelta(seconds=20847, microseconds=626077), datetime.timedelta(seconds=20848, microseconds=426077), datetime.timedelta(seconds=20849, microseconds=226077), datetime.timedelta(seconds=20850, microseconds=26077), datetime.timedelta(seconds=20850, microseconds=826077), datetime.timedelta(seconds=20851, microseconds=626077), datetime.timedelta(seconds=20852, microseconds=426077), datetime.timedelta(seconds=20853, microseconds=226077)]\n",
      "WT[0].left_steps : [[-50.13, -13.72], [-0.52, 1.15], [99.1, 41.01], [207.08, 66.66], [317.5, 66.67], [428.32, 66.63], [530.64, 26.11], [573.51, 21.61]]\n",
      "WT[0].right_steps : [[-44.87, -31.28], [55.9, 3.99], [154.64, 43.59], [262.5, 48.33], [372.5, 48.33], [479.07, 39.0], [571.49, 3.39]]\n",
      "SD[0] : (datetime.timedelta(seconds=20843, microseconds=700000), 11, True)\n",
      "SD_model[0] : <Sensor>normal PIR(#0)(150.00, 150.00)\n"
     ]
    }
   ],
   "source": [
    "import sys\n",
    "from pathlib import Path\n",
    "\n",
    "sys.path.append(\"./src\")\n",
    "import floor_plan\n",
    "import utils\n",
    "\n",
    "sys.path.append(\"./src\")\n",
    "layout_path = Path(\"./layout_data/test_layout\")\n",
    "data_path = layout_path / Path(\"test_data_1\")\n",
    "\n",
    "FP = floor_plan.FloorPlan()\n",
    "FP.load_layout(layout_path)\n",
    "AS = utils.pickle_load(data_path, \"AS\")\n",
    "WT = utils.pickle_load(data_path, \"WT\")\n",
    "SD = utils.pickle_load(data_path, \"SD\")\n",
    "WT_model = utils.pickle_load(data_path, \"WT_model\")\n",
    "SD_model = utils.pickle_load(data_path, \"SD_model\")\n",
    "\n",
    "print(f\"WT[0].centers : {WT[0].centers}\")\n",
    "print(f\"len(WT[0].centers) : {len(WT[0].centers)}\")\n",
    "print(f\"WT[0].timestamp : {WT[0].timestamp}\")\n",
    "print(f\"WT[0].left_steps : {WT[0].left_steps}\")\n",
    "print(f\"WT[0].right_steps : {WT[0].right_steps}\")\n",
    "print(f\"SD[0] : {SD[0]}\")\n",
    "print(f\"SD_model[0] : {SD_model[0]}\")"
   ]
  },
  {
   "cell_type": "code",
   "execution_count": null,
   "metadata": {},
   "outputs": [],
   "source": []
  }
 ],
 "metadata": {
  "kernelspec": {
   "display_name": "venv",
   "language": "python",
   "name": "python3"
  },
  "language_info": {
   "codemirror_mode": {
    "name": "ipython",
    "version": 3
   },
   "file_extension": ".py",
   "mimetype": "text/x-python",
   "name": "python",
   "nbconvert_exporter": "python",
   "pygments_lexer": "ipython3",
   "version": "3.11.4"
  }
 },
 "nbformat": 4,
 "nbformat_minor": 2
}
