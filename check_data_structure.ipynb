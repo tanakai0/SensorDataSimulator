{
 "cells": [
  {
   "cell_type": "markdown",
   "metadata": {},
   "source": [
    "# Check data structure"
   ]
  },
  {
   "cell_type": "code",
   "execution_count": 12,
   "metadata": {},
   "outputs": [
    {
     "name": "stdout",
     "output_type": "stream",
     "text": [
      "WT[0].centers : [(-67.5, -22.5), (-12.5, -17.5), (37.5, 2.5), (87.5, 22.5), (142.5, 32.5), (197.5, 37.5), (247.5, 22.5)]\n",
      "len(WT[0].centers) : 7\n",
      "WT[0].timestamp : [datetime.timedelta(seconds=18384, microseconds=709113), datetime.timedelta(seconds=18385, microseconds=509113), datetime.timedelta(seconds=18386, microseconds=309113), datetime.timedelta(seconds=18387, microseconds=109113), datetime.timedelta(seconds=18387, microseconds=909113), datetime.timedelta(seconds=18388, microseconds=709113), datetime.timedelta(seconds=18389, microseconds=509113)]\n",
      "WT[0].left_steps : [[-68.33, -13.37], [-14.64, -8.59], [84.97, 31.31], [198.42, 46.62], [250.13, 31.28]]\n",
      "WT[0].right_steps : [[-66.67, -31.63], [40.9, -6.01], [143.74, 23.42], [244.87, 13.72]]\n",
      "SD[0] : (datetime.timedelta(seconds=18384, microseconds=800000), 23, True)\n",
      "SD_model[0] : <Sensor>normal PIR(#0)(150.00, 150.00)\n",
      "[a for a in AS_model] : ['fundamental_activities', 'necessary_activities', 'random_activities', 'walking_activities', 'fundamental_activity_order', 'sleep']\n",
      "[a for a in AL_model] : ['housebound_go_out_num', 'housebound_go_out_duration', 'housebound_use_the_phone_num', 'housebound_use_the_phone_duration', 'semi_bedridden_nap_duration', 'semi_bedridden_rest_duration', 'semi_bedridden_go_out_num', 'semi_bedridden_go_out_duration', 'wandering_num', 'wandering_minute', 'fall_w_parameters', 'fall_s_parameters', 'forgetting_num']\n"
     ]
    }
   ],
   "source": [
    "from pathlib import Path\n",
    "import src.floor_plan as floor_plan\n",
    "import src.utils as utils\n",
    "\n",
    "layout_path = Path(\"./layout_data/test_layout\")\n",
    "data_path = layout_path / Path(\"test_data_3\")\n",
    "\n",
    "FP = floor_plan.FloorPlan()\n",
    "FP.load_layout(layout_path)\n",
    "AS = utils.pickle_load(data_path, \"AS\")\n",
    "WT = utils.pickle_load(data_path, \"WT\")\n",
    "SD = utils.pickle_load(data_path, \"SD\")\n",
    "AS_model = utils.pickle_load(data_path, \"AS_model\")\n",
    "AL_model = utils.pickle_load(data_path, \"AL_model\")\n",
    "WT_model = utils.pickle_load(data_path, \"WT_model\")\n",
    "SD_model = utils.pickle_load(data_path, \"SD_model\")\n",
    "\n",
    "print(f\"WT[0].centers : {WT[0].centers}\")\n",
    "print(f\"len(WT[0].centers) : {len(WT[0].centers)}\")\n",
    "print(f\"WT[0].timestamp : {WT[0].timestamp}\")\n",
    "print(f\"WT[0].left_steps : {WT[0].left_steps}\")\n",
    "print(f\"WT[0].right_steps : {WT[0].right_steps}\")\n",
    "print(f\"SD[0] : {SD[0]}\")\n",
    "print(f\"SD_model[0] : {SD_model[0]}\")\n",
    "print(f\"[a for a in AS_model] : {[a for a in AS_model]}\")\n",
    "print(f\"[a for a in AL_model] : {[a for a in AL_model]}\")"
   ]
  },
  {
   "cell_type": "code",
   "execution_count": null,
   "metadata": {},
   "outputs": [],
   "source": []
  }
 ],
 "metadata": {
  "kernelspec": {
   "display_name": "venv",
   "language": "python",
   "name": "python3"
  },
  "language_info": {
   "codemirror_mode": {
    "name": "ipython",
    "version": 3
   },
   "file_extension": ".py",
   "mimetype": "text/x-python",
   "name": "python",
   "nbconvert_exporter": "python",
   "pygments_lexer": "ipython3",
   "version": "3.11.4"
  }
 },
 "nbformat": 4,
 "nbformat_minor": 2
}
